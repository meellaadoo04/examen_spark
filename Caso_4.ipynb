{
 "cells": [
  {
   "cell_type": "markdown",
   "metadata": {
    "application/vnd.databricks.v1+cell": {
     "cellMetadata": {
      "byteLimit": 2048000,
      "rowLimit": 10000
     },
     "inputWidgets": {},
     "nuid": "6faa8f82-8459-4b9d-b8be-b985c9f761af",
     "showTitle": false,
     "tableResultSettingsMap": {},
     "title": ""
    }
   },
   "source": [
    "# Limpieza de datos con PySpark: Data Science Job Posting on Glassdoor"
   ]
  },
  {
   "cell_type": "markdown",
   "metadata": {
    "application/vnd.databricks.v1+cell": {
     "cellMetadata": {
      "byteLimit": 2048000,
      "rowLimit": 10000
     },
     "inputWidgets": {},
     "nuid": "ffad86de-2091-43f9-97e4-c94456fee761",
     "showTitle": false,
     "tableResultSettingsMap": {},
     "title": ""
    }
   },
   "source": [
    "Los [datos](https://tajamar365.sharepoint.com/:x:/s/3405-MasterIA2024-2025/ETYTQ0c-i6FLjM8rZ4iT1cgB6ipFAkainM-4V9M8DXsBiA?e=PeMtvh) fueron extraídos (scrapeados) del sitio web de Glassdoor y recoge los salarios de distintos puestos relacionados a Data."
   ]
  },
  {
   "cell_type": "markdown",
   "metadata": {
    "application/vnd.databricks.v1+cell": {
     "cellMetadata": {
      "byteLimit": 2048000,
      "rowLimit": 10000
     },
     "inputWidgets": {},
     "nuid": "dbd64de3-16db-4ce1-89ee-026c842262a1",
     "showTitle": false,
     "tableResultSettingsMap": {},
     "title": ""
    }
   },
   "source": [
    "### Resolver los siguientes requerimientos, para cada operación/moficación imprima como van quedadndo los cambios."
   ]
  },
  {
   "cell_type": "markdown",
   "metadata": {
    "application/vnd.databricks.v1+cell": {
     "cellMetadata": {
      "byteLimit": 2048000,
      "rowLimit": 10000
     },
     "inputWidgets": {},
     "nuid": "22e55e35-5fe8-4a9a-a14a-d8d15dbe45b0",
     "showTitle": false,
     "tableResultSettingsMap": {},
     "title": ""
    }
   },
   "source": [
    "1. Cargar los datos y mostrar el esquema o la informacion de las columnas y el tip de dato de cada columna"
   ]
  },
  {
   "cell_type": "code",
   "execution_count": 0,
   "metadata": {
    "application/vnd.databricks.v1+cell": {
     "cellMetadata": {
      "byteLimit": 2048000,
      "rowLimit": 10000
     },
     "inputWidgets": {},
     "nuid": "ae2b2642-f421-48d0-b1a6-e22732f799a9",
     "showTitle": false,
     "tableResultSettingsMap": {},
     "title": ""
    }
   },
   "outputs": [],
   "source": [
    "\n",
    "df = spark.read.option(\"header\", \"true\") \\\n",
    "               .option(\"delimiter\", \";\") \\\n",
    "               .option(\"multiline\", \"true\") \\\n",
    "               .option(\"quote\", \"\\\"\") \\\n",
    "               .option(\"escape\", \"\\\"\") \\\n",
    "               .csv(\"dbfs:/FileStore/ds_jobs_in_.csv\")\n",
    "df.printSchema()\n",
    "df.show()"
   ]
  },
  {
   "cell_type": "markdown",
   "metadata": {
    "application/vnd.databricks.v1+cell": {
     "cellMetadata": {
      "byteLimit": 2048000,
      "rowLimit": 10000
     },
     "inputWidgets": {},
     "nuid": "5a4b636b-5e44-4afa-9d44-0666b991cec1",
     "showTitle": false,
     "tableResultSettingsMap": {},
     "title": ""
    }
   },
   "source": [
    "2. Eliminar duplicados"
   ]
  },
  {
   "cell_type": "markdown",
   "metadata": {
    "application/vnd.databricks.v1+cell": {
     "cellMetadata": {
      "byteLimit": 2048000,
      "rowLimit": 10000
     },
     "inputWidgets": {},
     "nuid": "4c751d42-f88b-440f-98ba-f441f5cb801e",
     "showTitle": false,
     "tableResultSettingsMap": {},
     "title": ""
    }
   },
   "source": [
    "Comprobamos los duplicados"
   ]
  },
  {
   "cell_type": "code",
   "execution_count": 0,
   "metadata": {
    "application/vnd.databricks.v1+cell": {
     "cellMetadata": {
      "byteLimit": 2048000,
      "rowLimit": 10000
     },
     "inputWidgets": {},
     "nuid": "50b3ecbb-e7dc-4fab-afe3-ab8686fece99",
     "showTitle": false,
     "tableResultSettingsMap": {},
     "title": ""
    }
   },
   "outputs": [
    {
     "output_type": "display_data",
     "data": {
      "text/html": [
       "<style scoped>\n",
       "  .table-result-container {\n",
       "    max-height: 300px;\n",
       "    overflow: auto;\n",
       "  }\n",
       "  table, th, td {\n",
       "    border: 1px solid black;\n",
       "    border-collapse: collapse;\n",
       "  }\n",
       "  th, td {\n",
       "    padding: 5px;\n",
       "  }\n",
       "  th {\n",
       "    text-align: left;\n",
       "  }\n",
       "</style><div class='table-result-container'><table class='table-result'><thead style='background-color: white'><tr><th>index</th><th>Job Title</th><th>Salary Estimate</th><th>Job Description</th><th>Rating</th><th>Company Name</th><th>Location</th><th>Headquarters</th><th>Size</th><th>Founded</th><th>Type of ownership</th><th>Industry</th><th>Sector</th><th>Revenue</th><th>Competitors</th><th>count</th></tr></thead><tbody></tbody></table></div>"
      ]
     },
     "metadata": {
      "application/vnd.databricks.v1+output": {
       "addedWidgets": {},
       "aggData": [],
       "aggError": "",
       "aggOverflow": false,
       "aggSchema": [],
       "aggSeriesLimitReached": false,
       "aggType": "",
       "arguments": {},
       "columnCustomDisplayInfos": {},
       "data": [],
       "datasetInfos": [],
       "dbfsResultPath": null,
       "isJsonSchema": true,
       "metadata": {},
       "overflow": false,
       "plotOptions": {
        "customPlotOptions": {},
        "displayType": "table",
        "pivotAggregation": null,
        "pivotColumns": null,
        "xColumns": null,
        "yColumns": null
       },
       "removedWidgets": [],
       "schema": [
        {
         "metadata": "{}",
         "name": "index",
         "type": "\"string\""
        },
        {
         "metadata": "{}",
         "name": "Job Title",
         "type": "\"string\""
        },
        {
         "metadata": "{}",
         "name": "Salary Estimate",
         "type": "\"string\""
        },
        {
         "metadata": "{}",
         "name": "Job Description",
         "type": "\"string\""
        },
        {
         "metadata": "{}",
         "name": "Rating",
         "type": "\"string\""
        },
        {
         "metadata": "{}",
         "name": "Company Name",
         "type": "\"string\""
        },
        {
         "metadata": "{}",
         "name": "Location",
         "type": "\"string\""
        },
        {
         "metadata": "{}",
         "name": "Headquarters",
         "type": "\"string\""
        },
        {
         "metadata": "{}",
         "name": "Size",
         "type": "\"string\""
        },
        {
         "metadata": "{}",
         "name": "Founded",
         "type": "\"string\""
        },
        {
         "metadata": "{}",
         "name": "Type of ownership",
         "type": "\"string\""
        },
        {
         "metadata": "{}",
         "name": "Industry",
         "type": "\"string\""
        },
        {
         "metadata": "{}",
         "name": "Sector",
         "type": "\"string\""
        },
        {
         "metadata": "{}",
         "name": "Revenue",
         "type": "\"string\""
        },
        {
         "metadata": "{}",
         "name": "Competitors",
         "type": "\"string\""
        },
        {
         "metadata": "{}",
         "name": "count",
         "type": "\"long\""
        }
       ],
       "type": "table"
      }
     },
     "output_type": "display_data"
    }
   ],
   "source": [
    "# Contar filas duplicadas (todas las columnas)\n",
    "df.groupBy(df.columns).count().filter(\"count > 1\").display()\n"
   ]
  },
  {
   "cell_type": "code",
   "execution_count": 0,
   "metadata": {
    "application/vnd.databricks.v1+cell": {
     "cellMetadata": {
      "byteLimit": 2048000,
      "rowLimit": 10000
     },
     "inputWidgets": {},
     "nuid": "fd3944d9-7122-4721-b3c6-f72ba09b2334",
     "showTitle": false,
     "tableResultSettingsMap": {},
     "title": ""
    }
   },
   "outputs": [
    {
     "output_type": "stream",
     "name": "stdout",
     "output_type": "stream",
     "text": [
      "+-----+--------------------+--------------------+--------------------+------+--------------------+-----------------+--------------------+--------------------+-------+--------------------+--------------------+--------------------+--------------------+--------------------+\n|index|           Job Title|     Salary Estimate|     Job Description|Rating|        Company Name|         Location|        Headquarters|                Size|Founded|   Type of ownership|            Industry|              Sector|             Revenue|         Competitors|\n+-----+--------------------+--------------------+--------------------+------+--------------------+-----------------+--------------------+--------------------+-------+--------------------+--------------------+--------------------+--------------------+--------------------+\n|   19|Medical Lab Scien...|$137K-$171K (Glas...|Responsibilities\\...|    35|   Tower Health\\n3.5|   West Grove, PA|         Reading, PA|5001 to 10000 emp...|   2017|Nonprofit Organiz...|Health Care Servi...|         Health Care|Unknown / Non-App...|                  -1|\n|    9|      Data Scientist|$137K-$171K (Glas...|Ready to write th...|    36|XSELL Technologie...|      Chicago, IL|         Chicago, IL| 51 to 200 employees|   2014|   Company - Private|Enterprise Softwa...|Information Techn...|Unknown / Non-App...|                  -1|\n|   17|      Data Scientist|$137K-$171K (Glas...|Job Success Profi...|    35|        Buckman\\n3.5|      Memphis, TN|         Memphis, TN|1001 to 5000 empl...|   1945|   Company - Private|Chemical Manufact...|       Manufacturing|$500 million to $...|                  -1|\n|   12|Data Scientist - ...|$137K-$171K (Glas...|*Organization and...|    37|           PNNL\\n3.7|     Richland, WA|        Richland, WA|1001 to 5000 empl...|   1965|          Government|              Energy|Oil, Gas, Energy ...|$500 million to $...|Oak Ridge Nationa...|\n|    3|      Data Scientist|$137K-$171K (Glas...|JOB DESCRIPTION:\\...|    35|        INFICON\\n3.5|       Newton, MA|Bad Ragaz, Switze...|501 to 1000 emplo...|   2000|    Company - Public|Electrical & Elec...|       Manufacturing|$100 to $500 mill...|MKS Instruments, ...|\n|    0|   Sr Data Scientist|$137K-$171K (Glas...|Description\\n\\nTh...|    31|    Healthfirst\\n3.1|     New York, NY|        New York, NY|1001 to 5000 empl...|   1993|Nonprofit Organiz...|  Insurance Carriers|           Insurance|Unknown / Non-App...|EmblemHealth, Uni...|\n|   10|      Data Scientist|$137K-$171K (Glas...|Join our team ded...|    45|        Novetta\\n4.5|      Herndon, VA|         Mc Lean, VA|501 to 1000 emplo...|   2012|   Company - Private|Enterprise Softwa...|Information Techn...|$100 to $500 mill...|Leidos, CACI Inte...|\n|    4|      Data Scientist|$137K-$171K (Glas...|Data Scientist\\nA...|    29|Affinity Solution...|     New York, NY|        New York, NY| 51 to 200 employees|   1998|   Company - Private|Advertising & Mar...|   Business Services|Unknown / Non-App...|Commerce Signals,...|\n|    1|      Data Scientist|$137K-$171K (Glas...|Secure our Nation...|    42|        ManTech\\n4.2|    Chantilly, VA|         Herndon, VA|5001 to 10000 emp...|   1968|    Company - Public|Research & Develo...|   Business Services|$1 to $2 billion ...|                  -1|\n|    8|Staff Data Scient...|$137K-$171K (Glas...|Intuit is seeking...|    44|  Intuit - Data\\n4.4|    San Diego, CA|   Mountain View, CA|5001 to 10000 emp...|   1983|    Company - Public|Computer Hardware...|Information Techn...|$2 to $5 billion ...|Square, PayPal, H...|\n|   16|Data Scientist - ...|$137K-$171K (Glas...|We are an ambitio...|    41|Upside Business T...|           Remote|      Washington, DC| 51 to 200 employees|   2015|   Company - Private|            Internet|Information Techn...|Unknown / Non-App...|                  -1|\n|   18|     Data Analyst II|$137K-$171K (Glas...|The Data Analyst ...|    42|Insight Enterpris...|        Plano, TX|           Tempe, AZ|5001 to 10000 emp...|   1988|    Company - Public|Enterprise Softwa...|Information Techn...|$5 to $10 billion...|CDW, PCM, SHI Int...|\n|   15|Experienced Data ...|$137K-$171K (Glas...|*******Please App...|    44|Guzman & Griffin ...|   Washington, DC|    Mays Landing, NJ|   1 to 50 employees|   1997|   Company - Private|    Federal Agencies|          Government|Unknown / Non-App...|                  -1|\n|    7|      Data Scientist|$137K-$171K (Glas...|Introduction\\n\\nH...|    35|         iRobot\\n3.5|      Bedford, MA|         Bedford, MA|1001 to 5000 empl...|   1990|    Company - Public|Consumer Electron...|              Retail|$1 to $2 billion ...|                  -1|\n|   13|        Data Modeler|$137K-$171K (Glas...|POSITION PURPOSE:...|    31|Old World Industr...|   Northbrook, IL|      Northbrook, IL|201 to 500 employees|   1973|   Company - Private|Chemical Manufact...|       Manufacturing|$1 to $2 billion ...|                  -1|\n|   14|      Data Scientist|$137K-$171K (Glas...|Position Descript...|    34|Mathematica Polic...|   Washington, DC|       Princeton, NJ|1001 to 5000 empl...|   1986|   Company - Private|          Consulting|   Business Services|$100 to $500 mill...|                  -1|\n|    6|Data Scientist / ...|$137K-$171K (Glas...|Posting Title\\nDa...|    39|       Novartis\\n3.9|    Cambridge, MA|  Basel, Switzerland|    10000+ employees|   1996|    Company - Public|Biotech & Pharmac...|Biotech & Pharmac...|  $10+ billion (USD)|                  -1|\n|    5|      Data Scientist|$137K-$171K (Glas...|About Us:\\n\\nHead...|    42|    HG Insights\\n4.2|Santa Barbara, CA|   Santa Barbara, CA| 51 to 200 employees|   2010|   Company - Private|Computer Hardware...|Information Techn...|Unknown / Non-App...|                  -1|\n|   11|      Data Scientist|$137K-$171K (Glas...|About Us\\n\\n\\nInt...|    47|       1904labs\\n4.7|  Saint Louis, MO|     Saint Louis, MO| 51 to 200 employees|   2016|   Company - Private|         IT Services|Information Techn...|Unknown / Non-App...|Slalom, Daugherty...|\n|   20|      Data Scientist|$137K-$171K (Glas...|Role Description\\...|    32|     Triplebyte\\n3.2|     New York, NY|   San Francisco, CA| 51 to 200 employees|   2015|   Company - Private|Computer Hardware...|Information Techn...|Unknown / Non-App...|                  -1|\n+-----+--------------------+--------------------+--------------------+------+--------------------+-----------------+--------------------+--------------------+-------+--------------------+--------------------+--------------------+--------------------+--------------------+\nonly showing top 20 rows\n\n"
     ]
    }
   ],
   "source": [
    "df_sin_duplicados = df.dropDuplicates()\n",
    "df_sin_duplicados.show()\n"
   ]
  },
  {
   "cell_type": "markdown",
   "metadata": {
    "application/vnd.databricks.v1+cell": {
     "cellMetadata": {
      "byteLimit": 2048000,
      "rowLimit": 10000
     },
     "inputWidgets": {},
     "nuid": "a9b97746-8b29-4550-9e1b-be2876c2a0a5",
     "showTitle": false,
     "tableResultSettingsMap": {},
     "title": ""
    }
   },
   "source": [
    "3. Decidir que hacer con los datos faltantes "
   ]
  },
  {
   "cell_type": "markdown",
   "metadata": {
    "application/vnd.databricks.v1+cell": {
     "cellMetadata": {
      "byteLimit": 2048000,
      "rowLimit": 10000
     },
     "inputWidgets": {},
     "nuid": "2436e92a-fef3-4381-ba71-e005f468d658",
     "showTitle": false,
     "tableResultSettingsMap": {},
     "title": ""
    }
   },
   "source": [
    "Como podemos comprobar hay una fila con valores nulos por lo que procedemos a eliminarla ya que solo es 1 fila por lo que no nos va a aportar mucha informacion"
   ]
  },
  {
   "cell_type": "markdown",
   "metadata": {
    "application/vnd.databricks.v1+cell": {
     "cellMetadata": {
      "byteLimit": 2048000,
      "rowLimit": 10000
     },
     "inputWidgets": {},
     "nuid": "eaedda51-4a41-41cd-aba7-75f0e5a3c5f4",
     "showTitle": false,
     "tableResultSettingsMap": {},
     "title": ""
    }
   },
   "source": [
    "4. Decidir que hacer con los valores nulos"
   ]
  },
  {
   "cell_type": "code",
   "execution_count": 0,
   "metadata": {
    "application/vnd.databricks.v1+cell": {
     "cellMetadata": {
      "byteLimit": 2048000,
      "rowLimit": 10000
     },
     "inputWidgets": {},
     "nuid": "e5489c2f-91e9-4b57-801a-d6773bd37482",
     "showTitle": false,
     "tableResultSettingsMap": {},
     "title": ""
    }
   },
   "outputs": [
    {
     "output_type": "display_data",
     "data": {
      "text/html": [
       "<style scoped>\n",
       "  .table-result-container {\n",
       "    max-height: 300px;\n",
       "    overflow: auto;\n",
       "  }\n",
       "  table, th, td {\n",
       "    border: 1px solid black;\n",
       "    border-collapse: collapse;\n",
       "  }\n",
       "  th, td {\n",
       "    padding: 5px;\n",
       "  }\n",
       "  th {\n",
       "    text-align: left;\n",
       "  }\n",
       "</style><div class='table-result-container'><table class='table-result'><thead style='background-color: white'><tr><th>index</th><th>Job Title</th><th>Salary Estimate</th><th>Job Description</th><th>Rating</th><th>Company Name</th><th>Location</th><th>Headquarters</th><th>Size</th><th>Founded</th><th>Type of ownership</th><th>Industry</th><th>Sector</th><th>Revenue</th><th>Competitors</th></tr></thead><tbody><tr><td>0</td><td>0</td><td>1</td><td>1</td><td>0</td><td>0</td><td>0</td><td>0</td><td>0</td><td>0</td><td>0</td><td>0</td><td>0</td><td>0</td><td>0</td></tr></tbody></table></div>"
      ]
     },
     "metadata": {
      "application/vnd.databricks.v1+output": {
       "addedWidgets": {},
       "aggData": [],
       "aggError": "",
       "aggOverflow": false,
       "aggSchema": [],
       "aggSeriesLimitReached": false,
       "aggType": "",
       "arguments": {},
       "columnCustomDisplayInfos": {},
       "data": [
        [
         0,
         0,
         1,
         1,
         0,
         0,
         0,
         0,
         0,
         0,
         0,
         0,
         0,
         0,
         0
        ]
       ],
       "datasetInfos": [],
       "dbfsResultPath": null,
       "isJsonSchema": true,
       "metadata": {},
       "overflow": false,
       "plotOptions": {
        "customPlotOptions": {},
        "displayType": "table",
        "pivotAggregation": null,
        "pivotColumns": null,
        "xColumns": null,
        "yColumns": null
       },
       "removedWidgets": [],
       "schema": [
        {
         "metadata": "{}",
         "name": "index",
         "type": "\"long\""
        },
        {
         "metadata": "{}",
         "name": "Job Title",
         "type": "\"long\""
        },
        {
         "metadata": "{}",
         "name": "Salary Estimate",
         "type": "\"long\""
        },
        {
         "metadata": "{}",
         "name": "Job Description",
         "type": "\"long\""
        },
        {
         "metadata": "{}",
         "name": "Rating",
         "type": "\"long\""
        },
        {
         "metadata": "{}",
         "name": "Company Name",
         "type": "\"long\""
        },
        {
         "metadata": "{}",
         "name": "Location",
         "type": "\"long\""
        },
        {
         "metadata": "{}",
         "name": "Headquarters",
         "type": "\"long\""
        },
        {
         "metadata": "{}",
         "name": "Size",
         "type": "\"long\""
        },
        {
         "metadata": "{}",
         "name": "Founded",
         "type": "\"long\""
        },
        {
         "metadata": "{}",
         "name": "Type of ownership",
         "type": "\"long\""
        },
        {
         "metadata": "{}",
         "name": "Industry",
         "type": "\"long\""
        },
        {
         "metadata": "{}",
         "name": "Sector",
         "type": "\"long\""
        },
        {
         "metadata": "{}",
         "name": "Revenue",
         "type": "\"long\""
        },
        {
         "metadata": "{}",
         "name": "Competitors",
         "type": "\"long\""
        }
       ],
       "type": "table"
      }
     },
     "output_type": "display_data"
    }
   ],
   "source": [
    "from pyspark.sql.functions import col, isnan, when, count\n",
    "\n",
    "# Contar valores nulos o NaN por columna\n",
    "valores_nulos = df_sin_duplicados.select(\n",
    "    [count(when(col(c).isNull() | isnan(c), c)).alias(c) for c in df.columns]\n",
    ")\n",
    "valores_nulos.display()"
   ]
  },
  {
   "cell_type": "code",
   "execution_count": 0,
   "metadata": {
    "application/vnd.databricks.v1+cell": {
     "cellMetadata": {
      "byteLimit": 2048000,
      "rowLimit": 10000
     },
     "inputWidgets": {},
     "nuid": "47d7adc3-18a4-4276-bf43-f7c5c8be35f7",
     "showTitle": false,
     "tableResultSettingsMap": {},
     "title": ""
    }
   },
   "outputs": [],
   "source": [
    "\n",
    "df_sin_nulos = df.dropna()\n"
   ]
  },
  {
   "cell_type": "code",
   "execution_count": 0,
   "metadata": {
    "application/vnd.databricks.v1+cell": {
     "cellMetadata": {
      "byteLimit": 2048000,
      "rowLimit": 10000
     },
     "inputWidgets": {},
     "nuid": "79c3f2c4-0527-436f-a75c-6fc365e594f2",
     "showTitle": false,
     "tableResultSettingsMap": {},
     "title": ""
    }
   },
   "outputs": [
    {
     "output_type": "stream",
     "name": "stdout",
     "output_type": "stream",
     "text": [
      "No hay valores nulos en el DataFrame.\n"
     ]
    }
   ],
   "source": [
    "from functools import reduce\n",
    "\n",
    "# Contar filas con valores nulos\n",
    "filas_con_nulos = df_sin_nulos.filter(\n",
    "    reduce(lambda a, b: a | b, (col(c).isNull() for c in df_sin_nulos.columns))\n",
    ").count()\n",
    "\n",
    "if filas_con_nulos == 0:\n",
    "    print(\"No hay valores nulos en el DataFrame.\")\n",
    "else:\n",
    "    print(f\"Hay {filas_con_nulos} filas con valores nulos.\")\n"
   ]
  },
  {
   "cell_type": "markdown",
   "metadata": {
    "application/vnd.databricks.v1+cell": {
     "cellMetadata": {
      "byteLimit": 2048000,
      "rowLimit": 10000
     },
     "inputWidgets": {},
     "nuid": "cbb3b1ca-24ac-4206-8906-3ecee5d6c5aa",
     "showTitle": false,
     "tableResultSettingsMap": {},
     "title": ""
    }
   },
   "source": [
    "5. ¿Cuántos registros tiene el csv?"
   ]
  },
  {
   "cell_type": "code",
   "execution_count": 0,
   "metadata": {
    "application/vnd.databricks.v1+cell": {
     "cellMetadata": {
      "byteLimit": 2048000,
      "rowLimit": 10000
     },
     "inputWidgets": {},
     "nuid": "b14d1574-defd-4a32-a9cf-c005722ecdba",
     "showTitle": false,
     "tableResultSettingsMap": {},
     "title": ""
    }
   },
   "outputs": [
    {
     "output_type": "stream",
     "name": "stdout",
     "output_type": "stream",
     "text": [
      "El archivo CSV tiene 678 registros.\n"
     ]
    }
   ],
   "source": [
    "# Contar el número de registros en el DataFrame\n",
    "numero_registros = df.count()\n",
    "print(f\"El archivo CSV tiene {numero_registros} registros.\")\n"
   ]
  },
  {
   "cell_type": "markdown",
   "metadata": {
    "application/vnd.databricks.v1+cell": {
     "cellMetadata": {
      "byteLimit": 2048000,
      "rowLimit": 10000
     },
     "inputWidgets": {},
     "nuid": "1e9aac77-6fe5-4a54-b6ae-c152feee149f",
     "showTitle": false,
     "tableResultSettingsMap": {},
     "title": ""
    }
   },
   "source": [
    "6. Mostrar los valores únicos de `Job title` "
   ]
  },
  {
   "cell_type": "code",
   "execution_count": 0,
   "metadata": {
    "application/vnd.databricks.v1+cell": {
     "cellMetadata": {
      "byteLimit": 2048000,
      "rowLimit": 10000
     },
     "inputWidgets": {},
     "nuid": "e915cdf7-da22-4144-8116-1b5ac7e85614",
     "showTitle": false,
     "tableResultSettingsMap": {},
     "title": ""
    }
   },
   "outputs": [
    {
     "output_type": "stream",
     "name": "stdout",
     "output_type": "stream",
     "text": [
      "+----------------------------------------------+\n|Job title                                     |\n+----------------------------------------------+\n|Business Intelligence Analyst                 |\n|Data Modeler                                  |\n|Senior Research Statistician- Data Scientist  |\n|Sr Data Scientist                             |\n|Data Scientist/Machine Learning               |\n|Data Scientist / Machine Learning Expert      |\n|Associate Data Scientist                      |\n|Medical Lab Scientist                         |\n|Human Factors Scientist                       |\n|Experienced Data Scientist                    |\n|Data Analyst II                               |\n|Data Scientist                                |\n|Data Analyst                                  |\n|Senior Analyst/Data Scientist                 |\n|Data Scientist-Human Resources                |\n|Data Scientist - Contract                     |\n|Data Scientist - Risk                         |\n|Business Intelligence Analyst I- Data Insights|\n|Staff Data Scientist - Analytics              |\n|Data Scientist - Statistics, Early Career     |\n+----------------------------------------------+\nonly showing top 20 rows\n\n"
     ]
    }
   ],
   "source": [
    "# Mostrar los valores únicos de la columna 'Job title'\n",
    "df.select(\"Job title\").distinct().show(truncate=False)\n"
   ]
  },
  {
   "cell_type": "markdown",
   "metadata": {
    "application/vnd.databricks.v1+cell": {
     "cellMetadata": {
      "byteLimit": 2048000,
      "rowLimit": 10000
     },
     "inputWidgets": {},
     "nuid": "df06a700-7dd6-44c8-877c-52819ffb73a0",
     "showTitle": false,
     "tableResultSettingsMap": {},
     "title": ""
    }
   },
   "source": [
    "7. Remover la letra `K` de la columna `Salary Estimate` y multiplicar por 1000."
   ]
  },
  {
   "cell_type": "code",
   "execution_count": 0,
   "metadata": {
    "application/vnd.databricks.v1+cell": {
     "cellMetadata": {
      "byteLimit": 2048000,
      "rowLimit": 10000
     },
     "inputWidgets": {},
     "nuid": "7e9ba98d-9b75-4197-819e-58b6e3a7bfd2",
     "showTitle": false,
     "tableResultSettingsMap": {},
     "title": ""
    }
   },
   "outputs": [],
   "source": [
    "from pyspark.sql import SparkSession\n",
    "from pyspark.sql.functions import regexp_replace, split, trim, expr, col, concat_ws\n",
    "\n",
    "df = df.withColumn(\"Salary Estimate\", regexp_replace(col(\"Salary Estimate\"), \"K\", \".000\"))\n",
    "\n",
    "# Mostrar el resultado final\n",
    "df.show()\n",
    "\n",
    "\n",
    "\n"
   ]
  },
  {
   "cell_type": "markdown",
   "metadata": {
    "application/vnd.databricks.v1+cell": {
     "cellMetadata": {
      "byteLimit": 2048000,
      "rowLimit": 10000
     },
     "inputWidgets": {},
     "nuid": "b0f2bbcd-5c78-4d10-9118-e105f611b4af",
     "showTitle": false,
     "tableResultSettingsMap": {},
     "title": ""
    }
   },
   "source": [
    "8. Mostrar los valores únicos del campo `Salary Estimate`"
   ]
  },
  {
   "cell_type": "code",
   "execution_count": 0,
   "metadata": {
    "application/vnd.databricks.v1+cell": {
     "cellMetadata": {
      "byteLimit": 2048000,
      "rowLimit": 10000
     },
     "inputWidgets": {},
     "nuid": "0ad96afa-625d-4777-ba1a-42336126988a",
     "showTitle": false,
     "tableResultSettingsMap": {},
     "title": ""
    }
   },
   "outputs": [
    {
     "output_type": "stream",
     "name": "stdout",
     "output_type": "stream",
     "text": [
      "+----------------------------------+\n|Salary Estimate                   |\n+----------------------------------+\n|$75.000-$131.000 (Glassdoor est.) |\n|$90.000-$109.000 (Glassdoor est.) |\n|$141.000-$225.000 (Glassdoor est.)|\n|$101.000-$165.000 (Glassdoor est.)|\n|$110.000-$163.000 (Glassdoor est.)|\n|$79.000-$106.000 (Glassdoor est.) |\n|$99.000-$132.000 (Glassdoor est.) |\n|$122.000-$146.000 (Glassdoor est.)|\n|$124.000-$198.000 (Glassdoor est.)|\n|$137.000-$171.000 (Glassdoor est.)|\n|$112.000-$116.000 (Glassdoor est.)|\n|$145.000-$225.000(Employer est.)  |\n|$79.000-$131.000 (Glassdoor est.) |\n|$90.000-$124.000 (Glassdoor est.) |\n|$71.000-$123.000 (Glassdoor est.) |\n|$91.000-$150.000 (Glassdoor est.) |\n|$69.000-$116.000 (Glassdoor est.) |\n|$79.000-$147.000 (Glassdoor est.) |\n|$56.000-$97.000 (Glassdoor est.)  |\n|$31.000-$56.000 (Glassdoor est.)  |\n+----------------------------------+\nonly showing top 20 rows\n\n"
     ]
    }
   ],
   "source": [
    "# Mostrar los valores únicos de la columna \"Salary Estimate\"\n",
    "valores_unicos = df.select(\"Salary Estimate\").distinct()\n",
    "\n",
    "# Mostrar los resultados\n",
    "valores_unicos.show(truncate=False)"
   ]
  },
  {
   "cell_type": "markdown",
   "metadata": {
    "application/vnd.databricks.v1+cell": {
     "cellMetadata": {
      "byteLimit": 2048000,
      "rowLimit": 10000
     },
     "inputWidgets": {},
     "nuid": "da5d10ab-fd9e-4d8b-bf7f-f8d25b9ed1af",
     "showTitle": false,
     "tableResultSettingsMap": {},
     "title": ""
    }
   },
   "source": [
    "9. Eliminar `(Glassdoor est.)` y `(Employer est.)` del campo `Salary Estimate`"
   ]
  },
  {
   "cell_type": "code",
   "execution_count": 0,
   "metadata": {
    "application/vnd.databricks.v1+cell": {
     "cellMetadata": {
      "byteLimit": 2048000,
      "rowLimit": 10000
     },
     "inputWidgets": {},
     "nuid": "c5de4ad8-f9ba-4172-9e3a-4c5c93d09ebe",
     "showTitle": false,
     "tableResultSettingsMap": {},
     "title": ""
    }
   },
   "outputs": [],
   "source": [
    "from pyspark.sql import SparkSession\n",
    "from pyspark.sql.functions import regexp_replace, col\n",
    "\n",
    "\n",
    "\n",
    "# Eliminar (Glassdoor est.) y (Employer est.) de la columna Salary Estimate\n",
    "df = df.withColumn(\n",
    "    \"Salary Estimate\",\n",
    "    regexp_replace(\n",
    "        regexp_replace(col(\"Salary Estimate\"), r\"\\s*\\(Glassdoor est.\\)\", \"\"),  # Eliminar (Glassdoor est.)\n",
    "        r\"\\s*\\(Employer est.\\)\", \"\"  # Eliminar (Employer est.)\n",
    "    )\n",
    ")\n",
    "\n",
    "# Mostrar el DataFrame después de la limpieza\n",
    "df.show()"
   ]
  },
  {
   "cell_type": "markdown",
   "metadata": {
    "application/vnd.databricks.v1+cell": {
     "cellMetadata": {
      "byteLimit": 2048000,
      "rowLimit": 10000
     },
     "inputWidgets": {},
     "nuid": "80ff37c4-17a0-4eb4-b170-a131bd9b7844",
     "showTitle": false,
     "tableResultSettingsMap": {},
     "title": ""
    }
   },
   "source": [
    "10. Mostrar de mayor a menor los valores del campo `Salary Estimate`"
   ]
  },
  {
   "cell_type": "code",
   "execution_count": 0,
   "metadata": {
    "application/vnd.databricks.v1+cell": {
     "cellMetadata": {
      "byteLimit": 2048000,
      "rowLimit": 10000
     },
     "inputWidgets": {},
     "nuid": "4dc5a3e2-66a8-4b1d-a28e-aea98e6ba3e8",
     "showTitle": false,
     "tableResultSettingsMap": {},
     "title": ""
    }
   },
   "outputs": [],
   "source": [
    "# Supongamos que ya tienes el DataFrame df creado\n",
    "df_salary= df.select(\"Salary Estimate\").orderBy(col(\"Salary Estimate\").desc()).show(truncate=False)\n",
    "\n"
   ]
  },
  {
   "cell_type": "markdown",
   "metadata": {
    "application/vnd.databricks.v1+cell": {
     "cellMetadata": {
      "byteLimit": 2048000,
      "rowLimit": 10000
     },
     "inputWidgets": {},
     "nuid": "c20074ca-ff4d-45ba-a548-369bd3bdadc1",
     "showTitle": false,
     "tableResultSettingsMap": {},
     "title": ""
    }
   },
   "source": [
    "11. De la columna `Job Description` quitar los saltos de linea `\\n` del texto"
   ]
  },
  {
   "cell_type": "code",
   "execution_count": 0,
   "metadata": {
    "application/vnd.databricks.v1+cell": {
     "cellMetadata": {
      "byteLimit": 2048000,
      "rowLimit": 10000
     },
     "inputWidgets": {},
     "nuid": "649f281f-a27f-449c-bdc9-ae6782df7420",
     "showTitle": false,
     "tableResultSettingsMap": {},
     "title": ""
    }
   },
   "outputs": [],
   "source": [
    "# Quitar los saltos de línea \\n de la columna \"Job Description\"\n",
    "df = df.withColumn(\"Job Description\", regexp_replace(col(\"Job Description\"), \"\\\\n\", \" \"))\n",
    "df.show()\n"
   ]
  },
  {
   "cell_type": "markdown",
   "metadata": {
    "application/vnd.databricks.v1+cell": {
     "cellMetadata": {
      "byteLimit": 2048000,
      "rowLimit": 10000
     },
     "inputWidgets": {},
     "nuid": "63b8b421-3881-4bae-95c0-b79a37422e48",
     "showTitle": false,
     "tableResultSettingsMap": {},
     "title": ""
    }
   },
   "source": [
    "12. De la columna `Rating` muestre los valores unicos."
   ]
  },
  {
   "cell_type": "code",
   "execution_count": 0,
   "metadata": {
    "application/vnd.databricks.v1+cell": {
     "cellMetadata": {
      "byteLimit": 2048000,
      "rowLimit": 10000
     },
     "inputWidgets": {},
     "nuid": "8cf905ad-51b6-474a-af7b-29b1293be081",
     "showTitle": false,
     "tableResultSettingsMap": {},
     "title": ""
    }
   },
   "outputs": [
    {
     "output_type": "stream",
     "name": "stdout",
     "output_type": "stream",
     "text": [
      "+------+\n|Rating|\n+------+\n|29    |\n|42    |\n|34    |\n|28    |\n|22    |\n|35    |\n|47    |\n|43    |\n|31    |\n|27    |\n|41    |\n|38    |\n|44    |\n|33    |\n|48    |\n|32    |\n|36    |\n|37    |\n|39    |\n|50    |\n+------+\nonly showing top 20 rows\n\n"
     ]
    }
   ],
   "source": [
    "# Mostrar los valores únicos de la columna \"Rating\"\n",
    "unique_ratings = df.select(\"Rating\").distinct()\n",
    "\n",
    "# Mostrar los resultados\n",
    "unique_ratings.show(truncate=False)"
   ]
  },
  {
   "cell_type": "markdown",
   "metadata": {
    "application/vnd.databricks.v1+cell": {
     "cellMetadata": {
      "byteLimit": 2048000,
      "rowLimit": 10000
     },
     "inputWidgets": {},
     "nuid": "fd85fcdd-3514-4ad2-ab52-d1f21b825f5b",
     "showTitle": false,
     "tableResultSettingsMap": {},
     "title": ""
    }
   },
   "source": [
    "13. Del campo `Rating` reemplazar los `-1.0` por `0.0`."
   ]
  },
  {
   "cell_type": "code",
   "execution_count": 0,
   "metadata": {
    "application/vnd.databricks.v1+cell": {
     "cellMetadata": {
      "byteLimit": 2048000,
      "rowLimit": 10000
     },
     "inputWidgets": {},
     "nuid": "8dd74183-58df-4434-8fce-92e318e0b6ca",
     "showTitle": false,
     "tableResultSettingsMap": {},
     "title": ""
    }
   },
   "outputs": [],
   "source": [
    "# Reemplazar -1.0 por 0.0 en la columna \"Rating\"\n",
    "df = df.withColumn(\"Rating\", when(col(\"Rating\") == -1.0, 0.0).otherwise(col(\"Rating\")))\n"
   ]
  },
  {
   "cell_type": "markdown",
   "metadata": {
    "application/vnd.databricks.v1+cell": {
     "cellMetadata": {
      "byteLimit": 2048000,
      "rowLimit": 10000
     },
     "inputWidgets": {},
     "nuid": "fd30cd0d-46a3-4f2f-84f8-4c7e81d7d3ee",
     "showTitle": false,
     "tableResultSettingsMap": {},
     "title": ""
    }
   },
   "source": [
    "14. Mostrar los valores unicos y ordenar los valores del campo `Company Name`."
   ]
  },
  {
   "cell_type": "code",
   "execution_count": 0,
   "metadata": {
    "application/vnd.databricks.v1+cell": {
     "cellMetadata": {
      "byteLimit": 2048000,
      "rowLimit": 10000
     },
     "inputWidgets": {},
     "nuid": "ecd403dd-9bab-4407-9cac-5a52514403e4",
     "showTitle": false,
     "tableResultSettingsMap": {},
     "title": ""
    }
   },
   "outputs": [],
   "source": [
    "# Mostrar los valores únicos de la columna \"Company Name\" y ordenarlos\n",
    "unique_company_names = df.select(\"Company Name\").distinct().orderBy(\"Company Name\")\n",
    "\n",
    "# Mostrar los resultados\n",
    "unique_company_names.show(truncate=False)"
   ]
  },
  {
   "cell_type": "markdown",
   "metadata": {
    "application/vnd.databricks.v1+cell": {
     "cellMetadata": {
      "byteLimit": 2048000,
      "rowLimit": 10000
     },
     "inputWidgets": {},
     "nuid": "bd2e2a45-3570-49a6-823c-882f5714a647",
     "showTitle": false,
     "tableResultSettingsMap": {},
     "title": ""
    }
   },
   "source": [
    "15. Quitar todos los caracteres innecesarios que encuentres en el campo `Company Name`. Por ejemplo los saltos de linea `\\n`"
   ]
  },
  {
   "cell_type": "code",
   "execution_count": 0,
   "metadata": {
    "application/vnd.databricks.v1+cell": {
     "cellMetadata": {
      "byteLimit": 2048000,
      "rowLimit": 10000
     },
     "inputWidgets": {},
     "nuid": "aa9bfb5d-4940-4ded-8be9-257b1ff8c903",
     "showTitle": false,
     "tableResultSettingsMap": {},
     "title": ""
    }
   },
   "outputs": [],
   "source": [
    "# Limpiar caracteres innecesarios de la columna \"Company Name\"\n",
    "# Reemplaza saltos de línea, tabulaciones, signos de exclamación y espacios en blanco al principio y al final\n",
    "df_cleaned = df.withColumn(\"Company Name\", \n",
    "    regexp_replace(col(\"Company Name\"), \"[\\\\n\\\\t!]\", \"\")  # Reemplaza \\n, \\t y !\n",
    ")\n",
    "\n",
    "# Limpiar espacios en blanco adicionales\n",
    "df_cleaned = df_cleaned.withColumn(\"Company Name\", \n",
    "    regexp_replace(col(\"Company Name\"), \" +\", \" \")  # Reemplaza múltiples espacios por uno solo\n",
    ")\n",
    "\n",
    "# Eliminar espacios en blanco al principio y al final\n",
    "df= df_cleaned.withColumn(\"Company Name\", \n",
    "    regexp_replace(col(\"Company Name\"), \"^\\\\s+|\\\\s+$\", \"\")  # Quita espacios al inicio y al final\n",
    ")\n",
    "\n",
    "# Mostrar el DataFrame después de la limpieza\n",
    "df.show(truncate=False)"
   ]
  },
  {
   "cell_type": "markdown",
   "metadata": {
    "application/vnd.databricks.v1+cell": {
     "cellMetadata": {
      "byteLimit": 2048000,
      "rowLimit": 10000
     },
     "inputWidgets": {},
     "nuid": "5e594ec2-2d3f-429a-8cf4-7a6815567aa0",
     "showTitle": false,
     "tableResultSettingsMap": {},
     "title": ""
    }
   },
   "source": [
    "16. En el campo `Location` convertir esa columna en dos: `City` y `State`. Las ciudades que tengas en `Location` asignar a la columna `City`. Lo mismo para `State`. Luego elimine la columna `Location`."
   ]
  },
  {
   "cell_type": "code",
   "execution_count": 0,
   "metadata": {
    "application/vnd.databricks.v1+cell": {
     "cellMetadata": {
      "byteLimit": 2048000,
      "rowLimit": 10000
     },
     "inputWidgets": {},
     "nuid": "d02b7901-ee69-4a29-8c64-a604e6919b68",
     "showTitle": false,
     "tableResultSettingsMap": {},
     "title": ""
    }
   },
   "outputs": [
    {
     "output_type": "stream",
     "name": "stdout",
     "output_type": "stream",
     "text": [
      "+-----+-----------------------------------------+-----------------+-------------------------------------------------------------------------------------------------------------------------------------------------------------------------------------------------------------------------------------------------------------------------------------------------------------------------------------------------------------------------------------------------------------------------------------------------------------------------------------------------------------------------------------------------------------------------------------------------------------------------------------------------------------------------------------------------------------------------------------------------------------------------------------------------------------------------------------------------------------------------------------------------------------------------------------------------------------------------------------------------------------------------------------------------------------------------------------------------------------------------------------------------------------------------------------------------------------------------------------------------------------------------------------------------------------------------------------------------------------------------------------------------------------------------------------------------------------------------------------------------------------------------------------------------------------------------------------------------------------------------------------------------------------------------------------------------------------------------------------------------------------------------------------------------------------------------------------------------------------------------------------------------------------------------------------------------------------------------------------------------------------------------------------------------------------------------------------------------------------------------------------------------------------------------------------------------------------------------------------------------------------------------------------------------------------------------------------------------------------------------------------------------------------------------------------------------------------------------------------------------------------------------------------------------------------------------------------------------------------------------------------------------------------------------------------------------------------------------------------------------------------------------------------------------------------------------------------------------------------------------------------------------------------------------------------------------------------------------------------------------------------------------------------------------------------------------------------------------------------------------------------------------------------------------------------------------------------------------------------------------------------------------------------------------------------------------------------------------------------------------------------------------------------------------------------------------------------------------------------------------------------------------------------------------------------------------------------------------------------------------------------------------------------------------------------------------------------------------------------------------------------------------------------------------------------------------------------------------------------------------------------------------------------------------------------------------------------------------------------------------------------------------------------------------------------------------------------------------------------------------------------------------------------------------------------------------------------------------------------------------------------------------------------------------------------------------------------------------------------------------------------------------------------------------------------------------------------------------------------------------------------------------------------------------------------------------------------------------------------------------------------------------------------------------------------------------------------------------------------------------------------------------------------------------------------------------------------------------------------------------------------------------------------------------------------------------------------------------------------------------------------------------------------------------------------------------------------------------------------------------------------------------------------------------------------------------------------------------------------------------------------------------------------------------------------------------------------------------------------------------------------------------------------------------------------------------------------------------------------------------------------------------------------------------------------------------------------------------------------------------------------------------------------------------------------------------------------------------------------------------------------------------------------------------------------------------------------------------------------------------------------------------------------------------------------------------------------------------------------------------------------------------------------------------------------------------------------------------------------------------------------------------------------------------------------------------------------------------------------------------------------------------------------------------------------------------------------------------------------------------------------------------------------------------------------------------------------------------------------------------------------------------------------------------------------------------------------------------------------------------------------------------------------------------------------------------------------------------------------------------------------------------------------------------------------------------------------------------------------------------------------------------------------------------------------------------------------------------------------------------------------------------------------------------------------------------------------------------------------------------------------------------------------------------------------------------------------------------------------------------------------------------------------------------------------------------------------------------------------------------------------------------------------------------------------------------------------------------------------------------------------------------------------------------------------------------------------------------------------------------------------------------------------------------------------------------------------------------------------------------------------------------------------------------------------------------------------------------------------------------------------------------------------------------------------------------------------------------------------------------------------------------------------------------------------------------------------------------------------------------------------------------------------------------------------------------------------------------------------------------------------------------------------------------------------------------------------------------------------------------------------------------------------------------------------------------------------------------------------------------------------------------------------------------------------------------------------------------------------------------------------------------------------------------------------------------------------------------------------------------------------------------------------------------------------------------------------------------------------------------------------------------------------------------------------------------------------------------------------------------------------------------------------------------------------------------------------------------------------+------+---------------------------------------+----------------------+-----------------------+-------+-----------------------+----------------------------------------+----------------------------+--------------------------------+--------------------------------------------------------------------------------------------+-------------+-----+\n|index|Job Title                                |Salary Estimate  |Job Description                                                                                                                                                                                                                                                                                                                                                                                                                                                                                                                                                                                                                                                                                                                                                                                                                                                                                                                                                                                                                                                                                                                                                                                                                                                                                                                                                                                                                                                                                                                                                                                                                                                                                                                                                                                                                                                                                                                                                                                                                                                                                                                                                                                                                                                                                                                                                                                                                                                                                                                                                                                                                                                                                                                                                                                                                                                                                                                                                                                                                                                                                                                                                                                                                                                                                                                                                                                                                                                                                                                                                                                                                                                                                                                                                                                                                                                                                                                                                                                                                                                                                                                                                                                                                                                                                                                                                                                                                                                                                                                                                                                                                                                                                                                                                                                                                                                                                                                                                                                                                                                                                                                                                                                                                                                                                                                                                                                                                                                                                                                                                                                                                                                                                                                                                                                                                                                                                                                                                                                                                                                                                                                                                                                                                                                                                                                                                                                                                                                                                                                                                                                                                                                                                                                                                                                                                                                                                                                                                                                                                                                                                                                                                                                                                                                                                                                                                                                                                                                                                                                                                                                                                                                                                                                                                                                                                                                                                                                                                                                                                                                                                                                                                                                                                                                                                                                                                                                                                                                                                                                                                                                                                                                                                                                                                                                                                                                                                                                                                                                                                                                                                              |Rating|Company Name                           |Headquarters          |Size                   |Founded|Type of ownership      |Industry                                |Sector                      |Revenue                         |Competitors                                                                                 |City         |State|\n+-----+-----------------------------------------+-----------------+-------------------------------------------------------------------------------------------------------------------------------------------------------------------------------------------------------------------------------------------------------------------------------------------------------------------------------------------------------------------------------------------------------------------------------------------------------------------------------------------------------------------------------------------------------------------------------------------------------------------------------------------------------------------------------------------------------------------------------------------------------------------------------------------------------------------------------------------------------------------------------------------------------------------------------------------------------------------------------------------------------------------------------------------------------------------------------------------------------------------------------------------------------------------------------------------------------------------------------------------------------------------------------------------------------------------------------------------------------------------------------------------------------------------------------------------------------------------------------------------------------------------------------------------------------------------------------------------------------------------------------------------------------------------------------------------------------------------------------------------------------------------------------------------------------------------------------------------------------------------------------------------------------------------------------------------------------------------------------------------------------------------------------------------------------------------------------------------------------------------------------------------------------------------------------------------------------------------------------------------------------------------------------------------------------------------------------------------------------------------------------------------------------------------------------------------------------------------------------------------------------------------------------------------------------------------------------------------------------------------------------------------------------------------------------------------------------------------------------------------------------------------------------------------------------------------------------------------------------------------------------------------------------------------------------------------------------------------------------------------------------------------------------------------------------------------------------------------------------------------------------------------------------------------------------------------------------------------------------------------------------------------------------------------------------------------------------------------------------------------------------------------------------------------------------------------------------------------------------------------------------------------------------------------------------------------------------------------------------------------------------------------------------------------------------------------------------------------------------------------------------------------------------------------------------------------------------------------------------------------------------------------------------------------------------------------------------------------------------------------------------------------------------------------------------------------------------------------------------------------------------------------------------------------------------------------------------------------------------------------------------------------------------------------------------------------------------------------------------------------------------------------------------------------------------------------------------------------------------------------------------------------------------------------------------------------------------------------------------------------------------------------------------------------------------------------------------------------------------------------------------------------------------------------------------------------------------------------------------------------------------------------------------------------------------------------------------------------------------------------------------------------------------------------------------------------------------------------------------------------------------------------------------------------------------------------------------------------------------------------------------------------------------------------------------------------------------------------------------------------------------------------------------------------------------------------------------------------------------------------------------------------------------------------------------------------------------------------------------------------------------------------------------------------------------------------------------------------------------------------------------------------------------------------------------------------------------------------------------------------------------------------------------------------------------------------------------------------------------------------------------------------------------------------------------------------------------------------------------------------------------------------------------------------------------------------------------------------------------------------------------------------------------------------------------------------------------------------------------------------------------------------------------------------------------------------------------------------------------------------------------------------------------------------------------------------------------------------------------------------------------------------------------------------------------------------------------------------------------------------------------------------------------------------------------------------------------------------------------------------------------------\n\n*** WARNING: max output size exceeded, skipping output. ***\n\nvia proprietary systems and/or SAP Determine appropriate source, costing and categorization Process internal requests for creation Discontinue materials that are no longer available and/or based on company policy Other projects � Responsible for completing additional projects and assignments as required by the department All other assigned duties MINIMUM REQUIREMENTS  Education and/or Experience:  Associates degree or above from a college or university; or 3 years industry work experience.  KNOWLEDGE, SKILLS, AND ABILITIES  Following are the skills, knowledge and abilities necessary to perform this job Advanced spreadsheet skills Ability to analyze and troubleshoot information for resolution Ability to work well in cross-functional teams Ability to multi-task in a fast-paced environment Ability to meet aggressive service-level agreements Ability to take a complex process or technology and create easy-to-follow copy Excellent written and verbal communication, with strong editing skills Knowledge of AP style Vast knowledge of technical writing and styles associated with it Collaborating with marketing and IT on search engine relevancy as it relates to parts data�s influence Proficiency with MS Word, Excel, Outlook and SAP. Ability to write reports and/or business correspondence. Ability to effectively present information and respond to questions from groups of managers, customers, other employees. Ability to effectively present information to other departments and manufacturer representatives. Ability to read, analyze, and interpret business documents. Ability to effectively communicate via email, phone and in person. Ability to understand processes and identify areas of improvement. Ability to multi-task and demonstrate strong organizational details.                                                                                                                                                                                                                                                                                                                                                                                                                                                                                                                                                                                                                                                                                                                                                                                                                                                                                                                                                                                                                                                                                                                                                                                                                                                                                                                                                                                                                                                                                                                                                                                                                                                                                                                                                                                                                                                                                                                                                                                                                                                                                                                                                                                                                                                                                                                                                                                                                                                                                                                                                                                                                                                                                                                                                                                                                                                                                                                                                                                                                                                                                                                                                                                                                                                                                                                                                                                                                                                                                                                                                                                                                                                                                                                                                                                                                                                                                                                                                                                                                                                                                                                                                                                                                                                                                                                                                                                                                                                                                                                                                                                                                                                                                                                   |42    |Insight Enterprises, Inc.4.2           |Tempe, AZ             |5001 to 10000 employees|1988   |Company - Public       |Enterprise Software & Network Solutions |Information Technology      |$5 to $10 billion (USD)         |CDW, PCM, SHI International                                                                 |Plano        | TX  |\n|19   |Medical Lab Scientist                    |$137.000-$171.000|Responsibilities   The Medical Laboratory Scientist is responsible for obtaining or receiving specimens, performing clinical laboratory tests by standardized procedures, understanding method principles, performing quality control, performing preventive maintenance, and interpreting results accurately, acceptably and within critical limits. The MLS works independently, organizing work to meet established deadlines and validates all data obtained.  Qualifications Bachelor's Degree: Baccalaureate Degree in Medical Technology, Clinical Laboratory Science, Medical Laboratory Science or related science (Required) Minimum of 1 year of experience Certification and Licensure Requirements. MLS (ASCP) (Preferred) 3p-1130p 2-Evening                                                                                                                                                                                                                                                                                                                                                                                                                                                                                                                                                                                                                                                                                                                                                                                                                                                                                                                                                                                                                                                                                                                                                                                                                                                                                                                                                                                                                                                                                                                                                                                                                                                                                                                                                                                                                                                                                                                                                                                                                                                                                                                                                                                                                                                                                                                                                                                                                                                                                                                                                                                                                                                                                                                                                                                                                                                                                                                                                                                                                                                                                                                                                                                                                                                                                                                                                                                                                                                                                                                                                                                                                                                                                                                                                                                                                                                                                                                                                                                                                                                                                                                                                                                                                                                                                                                                                                                                                                                                                                                                                                                                                                                                                                                                                                                                                                                                                                                                                                                                                                                                                                                                                                                                                                                                                                                                                                                                                                                                                                                                                                                                                                                                                                                                                                                                                                                                                                                                                                                                                                                                                                                                                                                                                                                                                                                                                                                                                                                                                                                                                                                                                                                                                                                                                                                                                                                                                                                                                                                                                                                                                                                                                                                                                                                                                                                                                                                                                                                                                                                                                                                                                                                                                                                                                                                                                                                                                                                                                                                                                                                                                                                                                                                                                                                                                                                                                   |35    |Tower Health3.5                        |Reading, PA           |5001 to 10000 employees|2017   |Nonprofit Organization |Health Care Services & Hospitals        |Health Care                 |Unknown / Non-Applicable        |-1                                                                                          |West Grove   | PA  |\n+-----+-----------------------------------------+-----------------+-------------------------------------------------------------------------------------------------------------------------------------------------------------------------------------------------------------------------------------------------------------------------------------------------------------------------------------------------------------------------------------------------------------------------------------------------------------------------------------------------------------------------------------------------------------------------------------------------------------------------------------------------------------------------------------------------------------------------------------------------------------------------------------------------------------------------------------------------------------------------------------------------------------------------------------------------------------------------------------------------------------------------------------------------------------------------------------------------------------------------------------------------------------------------------------------------------------------------------------------------------------------------------------------------------------------------------------------------------------------------------------------------------------------------------------------------------------------------------------------------------------------------------------------------------------------------------------------------------------------------------------------------------------------------------------------------------------------------------------------------------------------------------------------------------------------------------------------------------------------------------------------------------------------------------------------------------------------------------------------------------------------------------------------------------------------------------------------------------------------------------------------------------------------------------------------------------------------------------------------------------------------------------------------------------------------------------------------------------------------------------------------------------------------------------------------------------------------------------------------------------------------------------------------------------------------------------------------------------------------------------------------------------------------------------------------------------------------------------------------------------------------------------------------------------------------------------------------------------------------------------------------------------------------------------------------------------------------------------------------------------------------------------------------------------------------------------------------------------------------------------------------------------------------------------------------------------------------------------------------------------------------------------------------------------------------------------------------------------------------------------------------------------------------------------------------------------------------------------------------------------------------------------------------------------------------------------------------------------------------------------------------------------------------------------------------------------------------------------------------------------------------------------------------------------------------------------------------------------------------------------------------------------------------------------------------------------------------------------------------------------------------------------------------------------------------------------------------------------------------------------------------------------------------------------------------------------------------------------------------------------------------------------------------------------------------------------------------------------------------------------------------------------------------------------------------------------------------------------------------------------------------------------------------------------------------------------------------------------------------------------------------------------------------------------------------------------------------------------------------------------------------------------------------------------------------------------------------------------------------------------------------------------------------------------------------------------------------------------------------------------------------------------------------------------------------------------------------------------------------------------------------------------------------------------------------------------------------------------------------------------------------------------------------------------------------------------------------------------------------------------------------------------------------------------------------------------------------------------------------------------------------------------------------------------------------------------------------------------------------------------------------------------------------------------------------------------------------------------------------------------------------------------------------------------------------------------------------------------------------------------------------------------------------------------------------------------------------------------------------------------------------------------------------------------------------------------------------------------------------------------------------------------------------------------------------------------------------------------------------------------------------------------------------------------------------------------------------------------------------------------------------------------------------------------------------------------------------------------------------------------------------------------------------------------------------------------------------------------------------------------------------------------------------------------------------------------------------------------------------------------------------------------------------------------------------------------------------------------------------------------------------------------------------------------------------------------------------------------------------------------------------------------------------------------------------------------------------------------------------------------------------------------------------------------------------------------------------------------------------------------------------------------------------------------------------------------------------------------------------------------------------------------------------------------------------------------------------------------------------------------------------------------------------------------------------------------------------------------------------------------------------------------------------------------------------------------------------------------------------------------------------------------------------------------------------------------------------------------------------------------------------------------------------------------------------------------------------------------------------------------------------------------------------------------------------------------------------------------------------------------------------------------------------------------------------------------------------------------------------------------------------------------------------------------------------------------------------------------------------------------------------------------------------------------------------------------------------------------------------------------------------------------------------------------------------------------------------------------------------------------------------------------------------------------------------------------------------------------------------------------------------------------------------------------------------------------------------------------------------------------------------------------------------------------------------------------------------------------------------------------------------------------------------------------------------------------------------------------------+------+---------------------------------------+----------------------+-----------------------+-------+-----------------------+----------------------------------------+----------------------------+--------------------------------+--------------------------------------------------------------------------------------------+-------------+-----+\nonly showing top 20 rows\n\n"
     ]
    }
   ],
   "source": [
    "# Dividir la columna \"Location\" en \"City\" y \"State\"\n",
    "df = df.withColumn(\"City\", split(col(\"Location\"), \",\")[0]) \\\n",
    "              .withColumn(\"State\", split(col(\"Location\"), \",\")[1]) \\\n",
    "              .drop(\"Location\")  # Eliminar la columna \"Location\"\n",
    "\n",
    "# Mostrar el DataFrame después de la división\n",
    "\n",
    "df.show(truncate=False)"
   ]
  },
  {
   "cell_type": "markdown",
   "metadata": {
    "application/vnd.databricks.v1+cell": {
     "cellMetadata": {
      "byteLimit": 2048000,
      "rowLimit": 10000
     },
     "inputWidgets": {},
     "nuid": "0ed408ad-803a-4209-9dae-57b7418724ef",
     "showTitle": false,
     "tableResultSettingsMap": {},
     "title": ""
    }
   },
   "source": [
    "17. Repetir la misma lógica de la pregunta 16 pero para el campo `Headquarters`. En Headquarters dejar solo la ciudad, mientras que para el estado añadirla a una columna nueva ` Headquarter State`."
   ]
  },
  {
   "cell_type": "code",
   "execution_count": 0,
   "metadata": {
    "application/vnd.databricks.v1+cell": {
     "cellMetadata": {
      "byteLimit": 2048000,
      "rowLimit": 10000
     },
     "inputWidgets": {},
     "nuid": "1c7e3058-ea71-4827-8731-b22222bb73ab",
     "showTitle": false,
     "tableResultSettingsMap": {},
     "title": ""
    }
   },
   "outputs": [
    {
     "output_type": "stream",
     "name": "stdout",
     "output_type": "stream",
     "text": [
      "+-----+--------------------+-----------------+--------------------+------+--------------------+--------------------+-------+--------------------+--------------------+--------------------+--------------------+--------------------+-------------+-----+----------------+-----------------+\n|index|           Job Title|  Salary Estimate|     Job Description|Rating|        Company Name|                Size|Founded|   Type of ownership|            Industry|              Sector|             Revenue|         Competitors|         City|State|Headquarter City|Headquarter State|\n+-----+--------------------+-----------------+--------------------+------+--------------------+--------------------+-------+--------------------+--------------------+--------------------+--------------------+--------------------+-------------+-----+----------------+-----------------+\n|    0|   Sr Data Scientist|$137.000-$171.000|Description  The ...|    31|      Healthfirst3.1|1001 to 5000 empl...|   1993|Nonprofit Organiz...|  Insurance Carriers|           Insurance|Unknown / Non-App...|EmblemHealth, Uni...|     New York|   NY|        New York|               NY|\n|    1|      Data Scientist|$137.000-$171.000|Secure our Nation...|    42|          ManTech4.2|5001 to 10000 emp...|   1968|    Company - Public|Research & Develo...|   Business Services|$1 to $2 billion ...|                  -1|    Chantilly|   VA|         Herndon|               VA|\n|    2|      Data Scientist|$137.000-$171.000|Overview   Analys...|    38|   Analysis Group3.8|1001 to 5000 empl...|   1981|Private Practice ...|          Consulting|   Business Services|$100 to $500 mill...|                  -1|       Boston|   MA|          Boston|               MA|\n|    3|      Data Scientist|$137.000-$171.000|JOB DESCRIPTION: ...|    35|          INFICON3.5|501 to 1000 emplo...|   2000|    Company - Public|Electrical & Elec...|       Manufacturing|$100 to $500 mill...|MKS Instruments, ...|       Newton|   MA|       Bad Ragaz|      Switzerland|\n|    4|      Data Scientist|$137.000-$171.000|Data Scientist Af...|    29|Affinity Solution...| 51 to 200 employees|   1998|   Company - Private|Advertising & Mar...|   Business Services|Unknown / Non-App...|Commerce Signals,...|     New York|   NY|        New York|               NY|\n|    5|      Data Scientist|$137.000-$171.000|About Us:  Headqu...|    42|      HG Insights4.2| 51 to 200 employees|   2010|   Company - Private|Computer Hardware...|Information Techn...|Unknown / Non-App...|                  -1|Santa Barbara|   CA|   Santa Barbara|               CA|\n|    6|Data Scientist / ...|$137.000-$171.000|Posting Title Dat...|    39|         Novartis3.9|    10000+ employees|   1996|    Company - Public|Biotech & Pharmac...|Biotech & Pharmac...|  $10+ billion (USD)|                  -1|    Cambridge|   MA|           Basel|      Switzerland|\n|    7|      Data Scientist|$137.000-$171.000|Introduction  Hav...|    35|           iRobot3.5|1001 to 5000 empl...|   1990|    Company - Public|Consumer Electron...|              Retail|$1 to $2 billion ...|                  -1|      Bedford|   MA|         Bedford|               MA|\n|    8|Staff Data Scient...|$137.000-$171.000|Intuit is seeking...|    44|    Intuit - Data4.4|5001 to 10000 emp...|   1983|    Company - Public|Computer Hardware...|Information Techn...|$2 to $5 billion ...|Square, PayPal, H...|    San Diego|   CA|   Mountain View|               CA|\n|    9|      Data Scientist|$137.000-$171.000|Ready to write th...|    36|XSELL Technologie...| 51 to 200 employees|   2014|   Company - Private|Enterprise Softwa...|Information Techn...|Unknown / Non-App...|                  -1|      Chicago|   IL|         Chicago|               IL|\n|   10|      Data Scientist|$137.000-$171.000|Join our team ded...|    45|          Novetta4.5|501 to 1000 emplo...|   2012|   Company - Private|Enterprise Softwa...|Information Techn...|$100 to $500 mill...|Leidos, CACI Inte...|      Herndon|   VA|         Mc Lean|               VA|\n|   11|      Data Scientist|$137.000-$171.000|About Us   Intere...|    47|         1904labs4.7| 51 to 200 employees|   2016|   Company - Private|         IT Services|Information Techn...|Unknown / Non-App...|Slalom, Daugherty...|  Saint Louis|   MO|     Saint Louis|               MO|\n|   12|Data Scientist - ...|$137.000-$171.000|*Organization and...|    37|             PNNL3.7|1001 to 5000 empl...|   1965|          Government|              Energy|Oil, Gas, Energy ...|$500 million to $...|Oak Ridge Nationa...|     Richland|   WA|        Richland|               WA|\n|   13|        Data Modeler|$137.000-$171.000|POSITION PURPOSE:...|    31|Old World Industr...|201 to 500 employees|   1973|   Company - Private|Chemical Manufact...|       Manufacturing|$1 to $2 billion ...|                  -1|   Northbrook|   IL|      Northbrook|               IL|\n|   14|      Data Scientist|$137.000-$171.000|Position Descript...|    34|Mathematica Polic...|1001 to 5000 empl...|   1986|   Company - Private|          Consulting|   Business Services|$100 to $500 mill...|                  -1|   Washington|   DC|       Princeton|               NJ|\n|   15|Experienced Data ...|$137.000-$171.000|*******Please App...|    44|Guzman & Griffin ...|   1 to 50 employees|   1997|   Company - Private|    Federal Agencies|          Government|Unknown / Non-App...|                  -1|   Washington|   DC|    Mays Landing|               NJ|\n|   16|Data Scientist - ...|$137.000-$171.000|We are an ambitio...|    41|Upside Business T...| 51 to 200 employees|   2015|   Company - Private|            Internet|Information Techn...|Unknown / Non-App...|                  -1|       Remote| NULL|      Washington|               DC|\n|   17|      Data Scientist|$137.000-$171.000|Job Success Profi...|    35|          Buckman3.5|1001 to 5000 empl...|   1945|   Company - Private|Chemical Manufact...|       Manufacturing|$500 million to $...|                  -1|      Memphis|   TN|         Memphis|               TN|\n|   18|     Data Analyst II|$137.000-$171.000|The Data Analyst ...|    42|Insight Enterpris...|5001 to 10000 emp...|   1988|    Company - Public|Enterprise Softwa...|Information Techn...|$5 to $10 billion...|CDW, PCM, SHI Int...|        Plano|   TX|           Tempe|               AZ|\n|   19|Medical Lab Scien...|$137.000-$171.000|Responsibilities ...|    35|     Tower Health3.5|5001 to 10000 emp...|   2017|Nonprofit Organiz...|Health Care Servi...|         Health Care|Unknown / Non-App...|                  -1|   West Grove|   PA|         Reading|               PA|\n+-----+--------------------+-----------------+--------------------+------+--------------------+--------------------+-------+--------------------+--------------------+--------------------+--------------------+--------------------+-------------+-----+----------------+-----------------+\nonly showing top 20 rows\n\n"
     ]
    }
   ],
   "source": [
    "# Dividir la columna \"Headquarters\" en \"Headquarter City\" y \"Headquarter State\"\n",
    "df = df.withColumn(\"Headquarter City\", split(col(\"Headquarters\"), \",\")[0]) \\\n",
    "              .withColumn(\"Headquarter State\", split(col(\"Headquarters\"), \",\")[1]) \\\n",
    "              .drop(\"Headquarters\")  # Eliminar la columna \"Headquarters\"\n",
    "\n",
    "# Mostrar el DataFrame después de la división\n",
    "df.show()"
   ]
  },
  {
   "cell_type": "markdown",
   "metadata": {
    "application/vnd.databricks.v1+cell": {
     "cellMetadata": {
      "byteLimit": 2048000,
      "rowLimit": 10000
     },
     "inputWidgets": {},
     "nuid": "09c9f37c-dbe5-4f0e-8f9b-7c4b4cfe8ee1",
     "showTitle": false,
     "tableResultSettingsMap": {},
     "title": ""
    }
   },
   "source": [
    "18. Muestre los valores únicos del campo `Headquarter State` "
   ]
  },
  {
   "cell_type": "code",
   "execution_count": 0,
   "metadata": {
    "application/vnd.databricks.v1+cell": {
     "cellMetadata": {
      "byteLimit": 2048000,
      "rowLimit": 10000
     },
     "inputWidgets": {},
     "nuid": "9c215fc3-9d39-4703-8e6f-7d897f8ce976",
     "showTitle": false,
     "tableResultSettingsMap": {},
     "title": ""
    }
   },
   "outputs": [
    {
     "output_type": "display_data",
     "data": {
      "text/html": [
       "<style scoped>\n",
       "  .table-result-container {\n",
       "    max-height: 300px;\n",
       "    overflow: auto;\n",
       "  }\n",
       "  table, th, td {\n",
       "    border: 1px solid black;\n",
       "    border-collapse: collapse;\n",
       "  }\n",
       "  th, td {\n",
       "    padding: 5px;\n",
       "  }\n",
       "  th {\n",
       "    text-align: left;\n",
       "  }\n",
       "</style><div class='table-result-container'><table class='table-result'><thead style='background-color: white'><tr><th>Headquarter State</th></tr></thead><tbody><tr><td> WA</td></tr><tr><td> AL</td></tr><tr><td> NM</td></tr><tr><td> MI</td></tr><tr><td> HI</td></tr><tr><td> MO</td></tr><tr><td> Israel</td></tr><tr><td> Japan</td></tr><tr><td> NE</td></tr><tr><td>null</td></tr><tr><td> Canada</td></tr><tr><td> AZ</td></tr><tr><td> WV</td></tr><tr><td> Spain</td></tr><tr><td> TN</td></tr><tr><td> MA</td></tr><tr><td> NY</td></tr><tr><td> MD</td></tr><tr><td> OH</td></tr><tr><td> IL</td></tr><tr><td> FL</td></tr><tr><td> LA</td></tr><tr><td> CA</td></tr><tr><td> UT</td></tr><tr><td> TX</td></tr><tr><td> SC</td></tr><tr><td> India</td></tr><tr><td> Switzerland</td></tr><tr><td> Singapore</td></tr><tr><td> IA</td></tr><tr><td> PA</td></tr><tr><td> OR</td></tr><tr><td> CT</td></tr><tr><td> Sweden</td></tr><tr><td> 061</td></tr><tr><td> NJ</td></tr><tr><td> GA</td></tr><tr><td> Bermuda</td></tr><tr><td> MN</td></tr><tr><td> United Kingdom</td></tr><tr><td> CO</td></tr><tr><td> VA</td></tr><tr><td> WI</td></tr><tr><td> France</td></tr><tr><td> IN</td></tr><tr><td> DC</td></tr><tr><td> NC</td></tr></tbody></table></div>"
      ]
     },
     "metadata": {
      "application/vnd.databricks.v1+output": {
       "addedWidgets": {},
       "aggData": [],
       "aggError": "",
       "aggOverflow": false,
       "aggSchema": [],
       "aggSeriesLimitReached": false,
       "aggType": "",
       "arguments": {},
       "columnCustomDisplayInfos": {},
       "data": [
        [
         " WA"
        ],
        [
         " AL"
        ],
        [
         " NM"
        ],
        [
         " MI"
        ],
        [
         " HI"
        ],
        [
         " MO"
        ],
        [
         " Israel"
        ],
        [
         " Japan"
        ],
        [
         " NE"
        ],
        [
         null
        ],
        [
         " Canada"
        ],
        [
         " AZ"
        ],
        [
         " WV"
        ],
        [
         " Spain"
        ],
        [
         " TN"
        ],
        [
         " MA"
        ],
        [
         " NY"
        ],
        [
         " MD"
        ],
        [
         " OH"
        ],
        [
         " IL"
        ],
        [
         " FL"
        ],
        [
         " LA"
        ],
        [
         " CA"
        ],
        [
         " UT"
        ],
        [
         " TX"
        ],
        [
         " SC"
        ],
        [
         " India"
        ],
        [
         " Switzerland"
        ],
        [
         " Singapore"
        ],
        [
         " IA"
        ],
        [
         " PA"
        ],
        [
         " OR"
        ],
        [
         " CT"
        ],
        [
         " Sweden"
        ],
        [
         " 061"
        ],
        [
         " NJ"
        ],
        [
         " GA"
        ],
        [
         " Bermuda"
        ],
        [
         " MN"
        ],
        [
         " United Kingdom"
        ],
        [
         " CO"
        ],
        [
         " VA"
        ],
        [
         " WI"
        ],
        [
         " France"
        ],
        [
         " IN"
        ],
        [
         " DC"
        ],
        [
         " NC"
        ]
       ],
       "datasetInfos": [],
       "dbfsResultPath": null,
       "isJsonSchema": true,
       "metadata": {},
       "overflow": false,
       "plotOptions": {
        "customPlotOptions": {},
        "displayType": "table",
        "pivotAggregation": null,
        "pivotColumns": null,
        "xColumns": null,
        "yColumns": null
       },
       "removedWidgets": [],
       "schema": [
        {
         "metadata": "{}",
         "name": "Headquarter State",
         "type": "\"string\""
        }
       ],
       "type": "table"
      }
     },
     "output_type": "display_data"
    }
   ],
   "source": [
    "# Obtener los valores únicos de la columna \"Headquarter State\"\n",
    "unique_headquarter_states = df.select(\"Headquarter State\").distinct()\n",
    "\n",
    "unique_headquarter_states.display()"
   ]
  },
  {
   "cell_type": "markdown",
   "metadata": {
    "application/vnd.databricks.v1+cell": {
     "cellMetadata": {
      "byteLimit": 2048000,
      "rowLimit": 10000
     },
     "inputWidgets": {},
     "nuid": "a7895f10-d9c8-443b-a225-848031030eb5",
     "showTitle": false,
     "tableResultSettingsMap": {},
     "title": ""
    }
   },
   "source": [
    "19. Mostrar valores unicos del campo `Size`."
   ]
  },
  {
   "cell_type": "code",
   "execution_count": 0,
   "metadata": {
    "application/vnd.databricks.v1+cell": {
     "cellMetadata": {
      "byteLimit": 2048000,
      "rowLimit": 10000
     },
     "inputWidgets": {},
     "nuid": "25d4d399-4084-4539-b1ca-4f45b705e998",
     "showTitle": false,
     "tableResultSettingsMap": {},
     "title": ""
    }
   },
   "outputs": [
    {
     "output_type": "display_data",
     "data": {
      "text/html": [
       "<style scoped>\n",
       "  .table-result-container {\n",
       "    max-height: 300px;\n",
       "    overflow: auto;\n",
       "  }\n",
       "  table, th, td {\n",
       "    border: 1px solid black;\n",
       "    border-collapse: collapse;\n",
       "  }\n",
       "  th, td {\n",
       "    padding: 5px;\n",
       "  }\n",
       "  th {\n",
       "    text-align: left;\n",
       "  }\n",
       "</style><div class='table-result-container'><table class='table-result'><thead style='background-color: white'><tr><th>Size</th></tr></thead><tbody><tr><td>-1</td></tr><tr><td>5001 to 10000 employees</td></tr><tr><td>0</td></tr><tr><td>Unknown</td></tr><tr><td>51 to 200 employees</td></tr><tr><td>1001 to 5000 employees</td></tr><tr><td>501 to 1000 employees</td></tr><tr><td>201 to 500 employees</td></tr><tr><td>10000+ employees</td></tr><tr><td>1 to 50 employees</td></tr></tbody></table></div>"
      ]
     },
     "metadata": {
      "application/vnd.databricks.v1+output": {
       "addedWidgets": {},
       "aggData": [],
       "aggError": "",
       "aggOverflow": false,
       "aggSchema": [],
       "aggSeriesLimitReached": false,
       "aggType": "",
       "arguments": {},
       "columnCustomDisplayInfos": {},
       "data": [
        [
         "-1"
        ],
        [
         "5001 to 10000 employees"
        ],
        [
         "0"
        ],
        [
         "Unknown"
        ],
        [
         "51 to 200 employees"
        ],
        [
         "1001 to 5000 employees"
        ],
        [
         "501 to 1000 employees"
        ],
        [
         "201 to 500 employees"
        ],
        [
         "10000+ employees"
        ],
        [
         "1 to 50 employees"
        ]
       ],
       "datasetInfos": [],
       "dbfsResultPath": null,
       "isJsonSchema": true,
       "metadata": {},
       "overflow": false,
       "plotOptions": {
        "customPlotOptions": {},
        "displayType": "table",
        "pivotAggregation": null,
        "pivotColumns": null,
        "xColumns": null,
        "yColumns": null
       },
       "removedWidgets": [],
       "schema": [
        {
         "metadata": "{}",
         "name": "Size",
         "type": "\"string\""
        }
       ],
       "type": "table"
      }
     },
     "output_type": "display_data"
    }
   ],
   "source": [
    "# Obtener los valores únicos de la columna \"Headquarter State\"\n",
    "unique_size = df.select(\"Size\").distinct()\n",
    "\n",
    "unique_size.display()"
   ]
  },
  {
   "cell_type": "markdown",
   "metadata": {
    "application/vnd.databricks.v1+cell": {
     "cellMetadata": {
      "byteLimit": 2048000,
      "rowLimit": 10000
     },
     "inputWidgets": {},
     "nuid": "c8f6a6b8-52b5-4e2e-9850-6dadc97f206c",
     "showTitle": false,
     "tableResultSettingsMap": {},
     "title": ""
    }
   },
   "source": [
    "20. Quitar 'employee' de los registros del campo `Size`. Elimine tambien otros caracteres basura."
   ]
  },
  {
   "cell_type": "code",
   "execution_count": 0,
   "metadata": {
    "application/vnd.databricks.v1+cell": {
     "cellMetadata": {
      "byteLimit": 2048000,
      "rowLimit": 10000
     },
     "inputWidgets": {},
     "nuid": "d4eea633-cd36-45d8-830d-6bb21de5a84d",
     "showTitle": false,
     "tableResultSettingsMap": {},
     "title": ""
    }
   },
   "outputs": [
    {
     "output_type": "stream",
     "name": "stdout",
     "output_type": "stream",
     "text": [
      "+-----+--------------------+-----------------+--------------------+------+--------------------+-------------+-------+--------------------+--------------------+--------------------+--------------------+--------------------+-------------+-----+----------------+-----------------+\n|index|           Job Title|  Salary Estimate|     Job Description|Rating|        Company Name|         Size|Founded|   Type of ownership|            Industry|              Sector|             Revenue|         Competitors|         City|State|Headquarter City|Headquarter State|\n+-----+--------------------+-----------------+--------------------+------+--------------------+-------------+-------+--------------------+--------------------+--------------------+--------------------+--------------------+-------------+-----+----------------+-----------------+\n|    0|   Sr Data Scientist|$137.000-$171.000|Description  The ...|    31|      Healthfirst3.1| 1001 to 5000|   1993|Nonprofit Organiz...|  Insurance Carriers|           Insurance|Unknown / Non-App...|EmblemHealth, Uni...|     New York|   NY|        New York|               NY|\n|    1|      Data Scientist|$137.000-$171.000|Secure our Nation...|    42|          ManTech4.2|5001 to 10000|   1968|    Company - Public|Research & Develo...|   Business Services|$1 to $2 billion ...|                  -1|    Chantilly|   VA|         Herndon|               VA|\n|    2|      Data Scientist|$137.000-$171.000|Overview   Analys...|    38|   Analysis Group3.8| 1001 to 5000|   1981|Private Practice ...|          Consulting|   Business Services|$100 to $500 mill...|                  -1|       Boston|   MA|          Boston|               MA|\n|    3|      Data Scientist|$137.000-$171.000|JOB DESCRIPTION: ...|    35|          INFICON3.5|  501 to 1000|   2000|    Company - Public|Electrical & Elec...|       Manufacturing|$100 to $500 mill...|MKS Instruments, ...|       Newton|   MA|       Bad Ragaz|      Switzerland|\n|    4|      Data Scientist|$137.000-$171.000|Data Scientist Af...|    29|Affinity Solution...|    51 to 200|   1998|   Company - Private|Advertising & Mar...|   Business Services|Unknown / Non-App...|Commerce Signals,...|     New York|   NY|        New York|               NY|\n|    5|      Data Scientist|$137.000-$171.000|About Us:  Headqu...|    42|      HG Insights4.2|    51 to 200|   2010|   Company - Private|Computer Hardware...|Information Techn...|Unknown / Non-App...|                  -1|Santa Barbara|   CA|   Santa Barbara|               CA|\n|    6|Data Scientist / ...|$137.000-$171.000|Posting Title Dat...|    39|         Novartis3.9|       10000+|   1996|    Company - Public|Biotech & Pharmac...|Biotech & Pharmac...|  $10+ billion (USD)|                  -1|    Cambridge|   MA|           Basel|      Switzerland|\n|    7|      Data Scientist|$137.000-$171.000|Introduction  Hav...|    35|           iRobot3.5| 1001 to 5000|   1990|    Company - Public|Consumer Electron...|              Retail|$1 to $2 billion ...|                  -1|      Bedford|   MA|         Bedford|               MA|\n|    8|Staff Data Scient...|$137.000-$171.000|Intuit is seeking...|    44|    Intuit - Data4.4|5001 to 10000|   1983|    Company - Public|Computer Hardware...|Information Techn...|$2 to $5 billion ...|Square, PayPal, H...|    San Diego|   CA|   Mountain View|               CA|\n|    9|      Data Scientist|$137.000-$171.000|Ready to write th...|    36|XSELL Technologie...|    51 to 200|   2014|   Company - Private|Enterprise Softwa...|Information Techn...|Unknown / Non-App...|                  -1|      Chicago|   IL|         Chicago|               IL|\n|   10|      Data Scientist|$137.000-$171.000|Join our team ded...|    45|          Novetta4.5|  501 to 1000|   2012|   Company - Private|Enterprise Softwa...|Information Techn...|$100 to $500 mill...|Leidos, CACI Inte...|      Herndon|   VA|         Mc Lean|               VA|\n|   11|      Data Scientist|$137.000-$171.000|About Us   Intere...|    47|         1904labs4.7|    51 to 200|   2016|   Company - Private|         IT Services|Information Techn...|Unknown / Non-App...|Slalom, Daugherty...|  Saint Louis|   MO|     Saint Louis|               MO|\n|   12|Data Scientist - ...|$137.000-$171.000|*Organization and...|    37|             PNNL3.7| 1001 to 5000|   1965|          Government|              Energy|Oil, Gas, Energy ...|$500 million to $...|Oak Ridge Nationa...|     Richland|   WA|        Richland|               WA|\n|   13|        Data Modeler|$137.000-$171.000|POSITION PURPOSE:...|    31|Old World Industr...|   201 to 500|   1973|   Company - Private|Chemical Manufact...|       Manufacturing|$1 to $2 billion ...|                  -1|   Northbrook|   IL|      Northbrook|               IL|\n|   14|      Data Scientist|$137.000-$171.000|Position Descript...|    34|Mathematica Polic...| 1001 to 5000|   1986|   Company - Private|          Consulting|   Business Services|$100 to $500 mill...|                  -1|   Washington|   DC|       Princeton|               NJ|\n|   15|Experienced Data ...|$137.000-$171.000|*******Please App...|    44|Guzman & Griffin ...|      1 to 50|   1997|   Company - Private|    Federal Agencies|          Government|Unknown / Non-App...|                  -1|   Washington|   DC|    Mays Landing|               NJ|\n|   16|Data Scientist - ...|$137.000-$171.000|We are an ambitio...|    41|Upside Business T...|    51 to 200|   2015|   Company - Private|            Internet|Information Techn...|Unknown / Non-App...|                  -1|       Remote| NULL|      Washington|               DC|\n|   17|      Data Scientist|$137.000-$171.000|Job Success Profi...|    35|          Buckman3.5| 1001 to 5000|   1945|   Company - Private|Chemical Manufact...|       Manufacturing|$500 million to $...|                  -1|      Memphis|   TN|         Memphis|               TN|\n|   18|     Data Analyst II|$137.000-$171.000|The Data Analyst ...|    42|Insight Enterpris...|5001 to 10000|   1988|    Company - Public|Enterprise Softwa...|Information Techn...|$5 to $10 billion...|CDW, PCM, SHI Int...|        Plano|   TX|           Tempe|               AZ|\n|   19|Medical Lab Scien...|$137.000-$171.000|Responsibilities ...|    35|     Tower Health3.5|5001 to 10000|   2017|Nonprofit Organiz...|Health Care Servi...|         Health Care|Unknown / Non-App...|                  -1|   West Grove|   PA|         Reading|               PA|\n+-----+--------------------+-----------------+--------------------+------+--------------------+-------------+-------+--------------------+--------------------+--------------------+--------------------+--------------------+-------------+-----+----------------+-----------------+\nonly showing top 20 rows\n\n"
     ]
    }
   ],
   "source": [
    "# Limpiar la columna \"Size\"\n",
    "df_cleaned = df.withColumn(\"Size\", \n",
    "    regexp_replace(col(\"Size\"), \" employees|Unknown|-1\", \"\")  # Reemplaza 'employees', 'Unknown' y '-1'\n",
    ")\n",
    "\n",
    "# Limpiar espacios en blanco adicionales\n",
    "df_cleaned = df_cleaned.withColumn(\"Size\", \n",
    "    regexp_replace(col(\"Size\"), \" +\", \" \")  # Reemplaza múltiples espacios por uno solo\n",
    ")\n",
    "\n",
    "# Eliminar espacios en blanco al principio y al final\n",
    "df = df_cleaned.withColumn(\"Size\", \n",
    "    regexp_replace(col(\"Size\"), \"^\\\\s+|\\\\s+$\", \"\")  # Quita espacios al inicio y al final\n",
    ")\n",
    "\n",
    "# Mostrar el DataFrame después de la limpieza\n",
    "df.show()"
   ]
  },
  {
   "cell_type": "markdown",
   "metadata": {
    "application/vnd.databricks.v1+cell": {
     "cellMetadata": {
      "byteLimit": 2048000,
      "rowLimit": 10000
     },
     "inputWidgets": {},
     "nuid": "36dfe0a0-9a25-40bc-8282-cba498d2badd",
     "showTitle": false,
     "tableResultSettingsMap": {},
     "title": ""
    }
   },
   "source": [
    "21. Reemplazar la palabra 'to' por '-' en todos los registros del campo `Size`. Reemplazar tambien '-1' por 'Unknown'. "
   ]
  },
  {
   "cell_type": "code",
   "execution_count": 0,
   "metadata": {
    "application/vnd.databricks.v1+cell": {
     "cellMetadata": {
      "byteLimit": 2048000,
      "rowLimit": 10000
     },
     "inputWidgets": {},
     "nuid": "0358e322-1f5c-4e71-8c19-5517944a2f89",
     "showTitle": false,
     "tableResultSettingsMap": {},
     "title": ""
    }
   },
   "outputs": [
    {
     "output_type": "stream",
     "name": "stdout",
     "output_type": "stream",
     "text": [
      "+-----+--------------------+-----------------+--------------------+------+--------------------+------------+-------+--------------------+--------------------+--------------------+--------------------+--------------------+-------------+-----+----------------+-----------------+\n|index|           Job Title|  Salary Estimate|     Job Description|Rating|        Company Name|        Size|Founded|   Type of ownership|            Industry|              Sector|             Revenue|         Competitors|         City|State|Headquarter City|Headquarter State|\n+-----+--------------------+-----------------+--------------------+------+--------------------+------------+-------+--------------------+--------------------+--------------------+--------------------+--------------------+-------------+-----+----------------+-----------------+\n|    0|   Sr Data Scientist|$137.000-$171.000|Description  The ...|    31|      Healthfirst3.1| 1001 - 5000|   1993|Nonprofit Organiz...|  Insurance Carriers|           Insurance|Unknown / Non-App...|EmblemHealth, Uni...|     New York|   NY|        New York|               NY|\n|    1|      Data Scientist|$137.000-$171.000|Secure our Nation...|    42|          ManTech4.2|5001 - 10000|   1968|    Company - Public|Research & Develo...|   Business Services|$1 to $2 billion ...|                  -1|    Chantilly|   VA|         Herndon|               VA|\n|    2|      Data Scientist|$137.000-$171.000|Overview   Analys...|    38|   Analysis Group3.8| 1001 - 5000|   1981|Private Practice ...|          Consulting|   Business Services|$100 to $500 mill...|                  -1|       Boston|   MA|          Boston|               MA|\n|    3|      Data Scientist|$137.000-$171.000|JOB DESCRIPTION: ...|    35|          INFICON3.5|  501 - 1000|   2000|    Company - Public|Electrical & Elec...|       Manufacturing|$100 to $500 mill...|MKS Instruments, ...|       Newton|   MA|       Bad Ragaz|      Switzerland|\n|    4|      Data Scientist|$137.000-$171.000|Data Scientist Af...|    29|Affinity Solution...|    51 - 200|   1998|   Company - Private|Advertising & Mar...|   Business Services|Unknown / Non-App...|Commerce Signals,...|     New York|   NY|        New York|               NY|\n|    5|      Data Scientist|$137.000-$171.000|About Us:  Headqu...|    42|      HG Insights4.2|    51 - 200|   2010|   Company - Private|Computer Hardware...|Information Techn...|Unknown / Non-App...|                  -1|Santa Barbara|   CA|   Santa Barbara|               CA|\n|    6|Data Scientist / ...|$137.000-$171.000|Posting Title Dat...|    39|         Novartis3.9|      10000+|   1996|    Company - Public|Biotech & Pharmac...|Biotech & Pharmac...|  $10+ billion (USD)|                  -1|    Cambridge|   MA|           Basel|      Switzerland|\n|    7|      Data Scientist|$137.000-$171.000|Introduction  Hav...|    35|           iRobot3.5| 1001 - 5000|   1990|    Company - Public|Consumer Electron...|              Retail|$1 to $2 billion ...|                  -1|      Bedford|   MA|         Bedford|               MA|\n|    8|Staff Data Scient...|$137.000-$171.000|Intuit is seeking...|    44|    Intuit - Data4.4|5001 - 10000|   1983|    Company - Public|Computer Hardware...|Information Techn...|$2 to $5 billion ...|Square, PayPal, H...|    San Diego|   CA|   Mountain View|               CA|\n|    9|      Data Scientist|$137.000-$171.000|Ready to write th...|    36|XSELL Technologie...|    51 - 200|   2014|   Company - Private|Enterprise Softwa...|Information Techn...|Unknown / Non-App...|                  -1|      Chicago|   IL|         Chicago|               IL|\n|   10|      Data Scientist|$137.000-$171.000|Join our team ded...|    45|          Novetta4.5|  501 - 1000|   2012|   Company - Private|Enterprise Softwa...|Information Techn...|$100 to $500 mill...|Leidos, CACI Inte...|      Herndon|   VA|         Mc Lean|               VA|\n|   11|      Data Scientist|$137.000-$171.000|About Us   Intere...|    47|         1904labs4.7|    51 - 200|   2016|   Company - Private|         IT Services|Information Techn...|Unknown / Non-App...|Slalom, Daugherty...|  Saint Louis|   MO|     Saint Louis|               MO|\n|   12|Data Scientist - ...|$137.000-$171.000|*Organization and...|    37|             PNNL3.7| 1001 - 5000|   1965|          Government|              Energy|Oil, Gas, Energy ...|$500 million to $...|Oak Ridge Nationa...|     Richland|   WA|        Richland|               WA|\n|   13|        Data Modeler|$137.000-$171.000|POSITION PURPOSE:...|    31|Old World Industr...|   201 - 500|   1973|   Company - Private|Chemical Manufact...|       Manufacturing|$1 to $2 billion ...|                  -1|   Northbrook|   IL|      Northbrook|               IL|\n|   14|      Data Scientist|$137.000-$171.000|Position Descript...|    34|Mathematica Polic...| 1001 - 5000|   1986|   Company - Private|          Consulting|   Business Services|$100 to $500 mill...|                  -1|   Washington|   DC|       Princeton|               NJ|\n|   15|Experienced Data ...|$137.000-$171.000|*******Please App...|    44|Guzman & Griffin ...|      1 - 50|   1997|   Company - Private|    Federal Agencies|          Government|Unknown / Non-App...|                  -1|   Washington|   DC|    Mays Landing|               NJ|\n|   16|Data Scientist - ...|$137.000-$171.000|We are an ambitio...|    41|Upside Business T...|    51 - 200|   2015|   Company - Private|            Internet|Information Techn...|Unknown / Non-App...|                  -1|       Remote| NULL|      Washington|               DC|\n|   17|      Data Scientist|$137.000-$171.000|Job Success Profi...|    35|          Buckman3.5| 1001 - 5000|   1945|   Company - Private|Chemical Manufact...|       Manufacturing|$500 million to $...|                  -1|      Memphis|   TN|         Memphis|               TN|\n|   18|     Data Analyst II|$137.000-$171.000|The Data Analyst ...|    42|Insight Enterpris...|5001 - 10000|   1988|    Company - Public|Enterprise Softwa...|Information Techn...|$5 to $10 billion...|CDW, PCM, SHI Int...|        Plano|   TX|           Tempe|               AZ|\n|   19|Medical Lab Scien...|$137.000-$171.000|Responsibilities ...|    35|     Tower Health3.5|5001 - 10000|   2017|Nonprofit Organiz...|Health Care Servi...|         Health Care|Unknown / Non-App...|                  -1|   West Grove|   PA|         Reading|               PA|\n+-----+--------------------+-----------------+--------------------+------+--------------------+------------+-------+--------------------+--------------------+--------------------+--------------------+--------------------+-------------+-----+----------------+-----------------+\nonly showing top 20 rows\n\n"
     ]
    }
   ],
   "source": [
    "# Reemplazar 'to' por '-' y '-1' por 'Unknown'\n",
    "df_replaced = df.withColumn(\"Size\", \n",
    "    regexp_replace(col(\"Size\"), \"to\", \"-\"))  # Reemplazar 'to' por '-'\n",
    "\n",
    "df= df_replaced.withColumn(\"Size\", \n",
    "    regexp_replace(col(\"Size\"), \"-1\", \"Unknown\"))  # Reemplazar '-1' por 'Unknown'\n",
    "\n",
    "# Mostrar el DataFrame después de los reemplazos\n",
    "df.show()"
   ]
  },
  {
   "cell_type": "markdown",
   "metadata": {
    "application/vnd.databricks.v1+cell": {
     "cellMetadata": {
      "byteLimit": 2048000,
      "rowLimit": 10000
     },
     "inputWidgets": {},
     "nuid": "f598578e-b86d-4de7-a298-709ec19648ed",
     "showTitle": false,
     "tableResultSettingsMap": {},
     "title": ""
    }
   },
   "source": [
    "22. Mostrar el tipo de dato del campo `Type of ownership` y sus registros unicos."
   ]
  },
  {
   "cell_type": "code",
   "execution_count": 0,
   "metadata": {
    "application/vnd.databricks.v1+cell": {
     "cellMetadata": {
      "byteLimit": 2048000,
      "rowLimit": 10000
     },
     "inputWidgets": {},
     "nuid": "32b1bd78-081b-4f6e-ad8b-0a2e12a33669",
     "showTitle": false,
     "tableResultSettingsMap": {},
     "title": ""
    }
   },
   "outputs": [
    {
     "output_type": "stream",
     "name": "stdout",
     "output_type": "stream",
     "text": [
      "root\n |-- index: string (nullable = true)\n |-- Job Title: string (nullable = true)\n |-- Salary Estimate: string (nullable = true)\n |-- Job Description: string (nullable = true)\n |-- Rating: string (nullable = true)\n |-- Company Name: string (nullable = true)\n |-- Size: string (nullable = true)\n |-- Founded: string (nullable = true)\n |-- Type of ownership: string (nullable = true)\n |-- Industry: string (nullable = true)\n |-- Sector: string (nullable = true)\n |-- Revenue: string (nullable = true)\n |-- Competitors: string (nullable = true)\n |-- City: string (nullable = true)\n |-- State: string (nullable = true)\n |-- Headquarter City: string (nullable = true)\n |-- Headquarter State: string (nullable = true)\n\n"
     ]
    },
    {
     "output_type": "display_data",
     "data": {
      "text/html": [
       "<style scoped>\n",
       "  .table-result-container {\n",
       "    max-height: 300px;\n",
       "    overflow: auto;\n",
       "  }\n",
       "  table, th, td {\n",
       "    border: 1px solid black;\n",
       "    border-collapse: collapse;\n",
       "  }\n",
       "  th, td {\n",
       "    padding: 5px;\n",
       "  }\n",
       "  th {\n",
       "    text-align: left;\n",
       "  }\n",
       "</style><div class='table-result-container'><table class='table-result'><thead style='background-color: white'><tr><th>Type of ownership</th></tr></thead><tbody><tr><td>-1</td></tr><tr><td>Government</td></tr><tr><td>Subsidiary or Business Segment</td></tr><tr><td>Self-employed</td></tr><tr><td>Contract</td></tr><tr><td>Unknown</td></tr><tr><td>College / University</td></tr><tr><td>Company - Private</td></tr><tr><td>Nonprofit Organization</td></tr><tr><td>Hospital</td></tr><tr><td>Private Practice / Firm</td></tr><tr><td>Company - Public</td></tr><tr><td>Other Organization</td></tr></tbody></table></div>"
      ]
     },
     "metadata": {
      "application/vnd.databricks.v1+output": {
       "addedWidgets": {},
       "aggData": [],
       "aggError": "",
       "aggOverflow": false,
       "aggSchema": [],
       "aggSeriesLimitReached": false,
       "aggType": "",
       "arguments": {},
       "columnCustomDisplayInfos": {},
       "data": [
        [
         "-1"
        ],
        [
         "Government"
        ],
        [
         "Subsidiary or Business Segment"
        ],
        [
         "Self-employed"
        ],
        [
         "Contract"
        ],
        [
         "Unknown"
        ],
        [
         "College / University"
        ],
        [
         "Company - Private"
        ],
        [
         "Nonprofit Organization"
        ],
        [
         "Hospital"
        ],
        [
         "Private Practice / Firm"
        ],
        [
         "Company - Public"
        ],
        [
         "Other Organization"
        ]
       ],
       "datasetInfos": [],
       "dbfsResultPath": null,
       "isJsonSchema": true,
       "metadata": {},
       "overflow": false,
       "plotOptions": {
        "customPlotOptions": {},
        "displayType": "table",
        "pivotAggregation": null,
        "pivotColumns": null,
        "xColumns": null,
        "yColumns": null
       },
       "removedWidgets": [],
       "schema": [
        {
         "metadata": "{}",
         "name": "Type of ownership",
         "type": "\"string\""
        }
       ],
       "type": "table"
      }
     },
     "output_type": "display_data"
    }
   ],
   "source": [
    "df.printSchema()  # Mostrar el esquema\n",
    "\n",
    "# Obtener los valores únicos de la columna \"Type of ownership\"\n",
    "unique_ownership_types = df.select(\"Type of ownership\").distinct()\n",
    "\n",
    "# Mostrar los resultados de los valores únicos\n",
    "unique_ownership_types.display()"
   ]
  },
  {
   "cell_type": "markdown",
   "metadata": {
    "application/vnd.databricks.v1+cell": {
     "cellMetadata": {
      "byteLimit": 2048000,
      "rowLimit": 10000
     },
     "inputWidgets": {},
     "nuid": "4f42ef72-f068-4b46-b1d3-6a5d59290322",
     "showTitle": false,
     "tableResultSettingsMap": {},
     "title": ""
    }
   },
   "source": [
    "23. Cambiar '-1' por 'Unknown' en todos los registros del campo `Type of ownership`."
   ]
  },
  {
   "cell_type": "code",
   "execution_count": 0,
   "metadata": {
    "application/vnd.databricks.v1+cell": {
     "cellMetadata": {
      "byteLimit": 2048000,
      "rowLimit": 10000
     },
     "inputWidgets": {},
     "nuid": "357ce166-28af-4d23-bd08-f15042322897",
     "showTitle": false,
     "tableResultSettingsMap": {},
     "title": ""
    }
   },
   "outputs": [
    {
     "output_type": "stream",
     "name": "stdout",
     "output_type": "stream",
     "text": [
      "+-----+--------------------+-----------------+--------------------+------+--------------------+------------+-------+--------------------+--------------------+--------------------+--------------------+--------------------+-------------+-----+----------------+-----------------+\n|index|           Job Title|  Salary Estimate|     Job Description|Rating|        Company Name|        Size|Founded|   Type of ownership|            Industry|              Sector|             Revenue|         Competitors|         City|State|Headquarter City|Headquarter State|\n+-----+--------------------+-----------------+--------------------+------+--------------------+------------+-------+--------------------+--------------------+--------------------+--------------------+--------------------+-------------+-----+----------------+-----------------+\n|    0|   Sr Data Scientist|$137.000-$171.000|Description  The ...|    31|      Healthfirst3.1| 1001 - 5000|   1993|Nonprofit Organiz...|  Insurance Carriers|           Insurance|Unknown / Non-App...|EmblemHealth, Uni...|     New York|   NY|        New York|               NY|\n|    1|      Data Scientist|$137.000-$171.000|Secure our Nation...|    42|          ManTech4.2|5001 - 10000|   1968|    Company - Public|Research & Develo...|   Business Services|$1 to $2 billion ...|                  -1|    Chantilly|   VA|         Herndon|               VA|\n|    2|      Data Scientist|$137.000-$171.000|Overview   Analys...|    38|   Analysis Group3.8| 1001 - 5000|   1981|Private Practice ...|          Consulting|   Business Services|$100 to $500 mill...|                  -1|       Boston|   MA|          Boston|               MA|\n|    3|      Data Scientist|$137.000-$171.000|JOB DESCRIPTION: ...|    35|          INFICON3.5|  501 - 1000|   2000|    Company - Public|Electrical & Elec...|       Manufacturing|$100 to $500 mill...|MKS Instruments, ...|       Newton|   MA|       Bad Ragaz|      Switzerland|\n|    4|      Data Scientist|$137.000-$171.000|Data Scientist Af...|    29|Affinity Solution...|    51 - 200|   1998|   Company - Private|Advertising & Mar...|   Business Services|Unknown / Non-App...|Commerce Signals,...|     New York|   NY|        New York|               NY|\n|    5|      Data Scientist|$137.000-$171.000|About Us:  Headqu...|    42|      HG Insights4.2|    51 - 200|   2010|   Company - Private|Computer Hardware...|Information Techn...|Unknown / Non-App...|                  -1|Santa Barbara|   CA|   Santa Barbara|               CA|\n|    6|Data Scientist / ...|$137.000-$171.000|Posting Title Dat...|    39|         Novartis3.9|      10000+|   1996|    Company - Public|Biotech & Pharmac...|Biotech & Pharmac...|  $10+ billion (USD)|                  -1|    Cambridge|   MA|           Basel|      Switzerland|\n|    7|      Data Scientist|$137.000-$171.000|Introduction  Hav...|    35|           iRobot3.5| 1001 - 5000|   1990|    Company - Public|Consumer Electron...|              Retail|$1 to $2 billion ...|                  -1|      Bedford|   MA|         Bedford|               MA|\n|    8|Staff Data Scient...|$137.000-$171.000|Intuit is seeking...|    44|    Intuit - Data4.4|5001 - 10000|   1983|    Company - Public|Computer Hardware...|Information Techn...|$2 to $5 billion ...|Square, PayPal, H...|    San Diego|   CA|   Mountain View|               CA|\n|    9|      Data Scientist|$137.000-$171.000|Ready to write th...|    36|XSELL Technologie...|    51 - 200|   2014|   Company - Private|Enterprise Softwa...|Information Techn...|Unknown / Non-App...|                  -1|      Chicago|   IL|         Chicago|               IL|\n|   10|      Data Scientist|$137.000-$171.000|Join our team ded...|    45|          Novetta4.5|  501 - 1000|   2012|   Company - Private|Enterprise Softwa...|Information Techn...|$100 to $500 mill...|Leidos, CACI Inte...|      Herndon|   VA|         Mc Lean|               VA|\n|   11|      Data Scientist|$137.000-$171.000|About Us   Intere...|    47|         1904labs4.7|    51 - 200|   2016|   Company - Private|         IT Services|Information Techn...|Unknown / Non-App...|Slalom, Daugherty...|  Saint Louis|   MO|     Saint Louis|               MO|\n|   12|Data Scientist - ...|$137.000-$171.000|*Organization and...|    37|             PNNL3.7| 1001 - 5000|   1965|          Government|              Energy|Oil, Gas, Energy ...|$500 million to $...|Oak Ridge Nationa...|     Richland|   WA|        Richland|               WA|\n|   13|        Data Modeler|$137.000-$171.000|POSITION PURPOSE:...|    31|Old World Industr...|   201 - 500|   1973|   Company - Private|Chemical Manufact...|       Manufacturing|$1 to $2 billion ...|                  -1|   Northbrook|   IL|      Northbrook|               IL|\n|   14|      Data Scientist|$137.000-$171.000|Position Descript...|    34|Mathematica Polic...| 1001 - 5000|   1986|   Company - Private|          Consulting|   Business Services|$100 to $500 mill...|                  -1|   Washington|   DC|       Princeton|               NJ|\n|   15|Experienced Data ...|$137.000-$171.000|*******Please App...|    44|Guzman & Griffin ...|      1 - 50|   1997|   Company - Private|    Federal Agencies|          Government|Unknown / Non-App...|                  -1|   Washington|   DC|    Mays Landing|               NJ|\n|   16|Data Scientist - ...|$137.000-$171.000|We are an ambitio...|    41|Upside Business T...|    51 - 200|   2015|   Company - Private|            Internet|Information Techn...|Unknown / Non-App...|                  -1|       Remote| NULL|      Washington|               DC|\n|   17|      Data Scientist|$137.000-$171.000|Job Success Profi...|    35|          Buckman3.5| 1001 - 5000|   1945|   Company - Private|Chemical Manufact...|       Manufacturing|$500 million to $...|                  -1|      Memphis|   TN|         Memphis|               TN|\n|   18|     Data Analyst II|$137.000-$171.000|The Data Analyst ...|    42|Insight Enterpris...|5001 - 10000|   1988|    Company - Public|Enterprise Softwa...|Information Techn...|$5 to $10 billion...|CDW, PCM, SHI Int...|        Plano|   TX|           Tempe|               AZ|\n|   19|Medical Lab Scien...|$137.000-$171.000|Responsibilities ...|    35|     Tower Health3.5|5001 - 10000|   2017|Nonprofit Organiz...|Health Care Servi...|         Health Care|Unknown / Non-App...|                  -1|   West Grove|   PA|         Reading|               PA|\n+-----+--------------------+-----------------+--------------------+------+--------------------+------------+-------+--------------------+--------------------+--------------------+--------------------+--------------------+-------------+-----+----------------+-----------------+\nonly showing top 20 rows\n\n"
     ]
    }
   ],
   "source": [
    "# Reemplazar '-1' por 'Unknown'\n",
    "df = df.withColumn(\"Type of ownership\", \n",
    "    when(col(\"Type of ownership\") == '-1', 'Unknown')  # Cambiar '-1' por 'Unknown'\n",
    "    .otherwise(col(\"Type of ownership\"))  # Mantener el valor original si no es '-1'\n",
    ")\n",
    "\n",
    "df.show()"
   ]
  },
  {
   "cell_type": "markdown",
   "metadata": {
    "application/vnd.databricks.v1+cell": {
     "cellMetadata": {},
     "inputWidgets": {},
     "nuid": "6b9f9087-9cce-4213-b99b-f573757dbd97",
     "showTitle": false,
     "tableResultSettingsMap": {},
     "title": ""
    }
   },
   "source": [
    "24. Cambiar:  \n",
    "-  `Company - Public` por `Public Company`  \n",
    "-  `Company - Private` por `Private Company`  \n",
    "-  `Private Practice / Firm` por `Private Company`  \n",
    "-  `Subsidiary or Business Segment` por `Business`  \n",
    "-  `College / University` por `Education`  \n",
    "En todos los registros del campo `Type of ownership`."
   ]
  },
  {
   "cell_type": "code",
   "execution_count": 0,
   "metadata": {
    "application/vnd.databricks.v1+cell": {
     "cellMetadata": {
      "byteLimit": 2048000,
      "rowLimit": 10000
     },
     "inputWidgets": {},
     "nuid": "6cd5f7cc-3908-443d-bfd5-00659f99d1e5",
     "showTitle": false,
     "tableResultSettingsMap": {},
     "title": ""
    }
   },
   "outputs": [],
   "source": [
    "# Reemplazar múltiples valores en la columna \"Type of ownership\"\n",
    "df_replaced = df.withColumn(\"Type of ownership\", \n",
    "    regexp_replace(col(\"Type of ownership\"), \"Company - Public\", \"Public Company\")\n",
    ")\n",
    "\n",
    "df_replaced = df_replaced.withColumn(\"Type of ownership\", \n",
    "    regexp_replace(col(\"Type of ownership\"), \"Company - Private\", \"Private Company\")\n",
    ")\n",
    "\n",
    "df_replaced = df_replaced.withColumn(\"Type of ownership\", \n",
    "    regexp_replace(col(\"Type of ownership\"), \"Private Practice / Firm\", \"Private Company\")\n",
    ")\n",
    "\n",
    "df_replaced = df_replaced.withColumn(\"Type of ownership\", \n",
    "    regexp_replace(col(\"Type of ownership\"), \"Subsidiary or Business Segment\", \"Business\")\n",
    ")\n",
    "\n",
    "df = df_replaced.withColumn(\"Type of ownership\", \n",
    "    regexp_replace(col(\"Type of ownership\"), \"College / University\", \"Education\")\n",
    ")\n",
    "\n",
    "df.display()"
   ]
  },
  {
   "cell_type": "markdown",
   "metadata": {
    "application/vnd.databricks.v1+cell": {
     "cellMetadata": {},
     "inputWidgets": {},
     "nuid": "ed329cf5-1daa-4dd9-9b16-d2ab23bbf486",
     "showTitle": false,
     "tableResultSettingsMap": {},
     "title": ""
    }
   },
   "source": [
    "25. Mostrar el tipo de dato y los valores unicos del campo `Industry`."
   ]
  },
  {
   "cell_type": "code",
   "execution_count": 0,
   "metadata": {
    "application/vnd.databricks.v1+cell": {
     "cellMetadata": {
      "byteLimit": 2048000,
      "rowLimit": 10000
     },
     "inputWidgets": {},
     "nuid": "3316f990-6acf-4afa-abb0-3cafe6719169",
     "showTitle": false,
     "tableResultSettingsMap": {},
     "title": ""
    }
   },
   "outputs": [],
   "source": [
    "df.printSchema()  # Mostrar el esquema del DataFrame\n",
    "\n",
    "# Obtener los valores únicos de la columna \"Industry\"\n",
    "unique_industry_types = df.select(\"Industry\").distinct()\n",
    "\n",
    "unique_industry_types.display()"
   ]
  },
  {
   "cell_type": "markdown",
   "metadata": {
    "application/vnd.databricks.v1+cell": {
     "cellMetadata": {},
     "inputWidgets": {},
     "nuid": "c06a12fb-1a33-4cfa-aadb-c01e00a9c4ee",
     "showTitle": false,
     "tableResultSettingsMap": {},
     "title": ""
    }
   },
   "source": [
    "26. En el mismo campo de `Industry` reemplazar '-1' por 'Not Available' y '&' por 'and'.  Vuelva a imprimir los valores unicos en orden alfabético."
   ]
  },
  {
   "cell_type": "code",
   "execution_count": 0,
   "metadata": {
    "application/vnd.databricks.v1+cell": {
     "cellMetadata": {
      "byteLimit": 2048000,
      "rowLimit": 10000
     },
     "inputWidgets": {},
     "nuid": "6ff4186b-5cc0-44c8-9357-267a1724b691",
     "showTitle": false,
     "tableResultSettingsMap": {},
     "title": ""
    }
   },
   "outputs": [],
   "source": [
    "# Reemplazar '-1' por 'Not Available' y '&' por 'and'\n",
    "df= df.withColumn(\"Industry\", \n",
    "    regexp_replace(col(\"Industry\"), \"-1\", \"Not Available\")) \\\n",
    "    .withColumn(\"Industry\", \n",
    "    regexp_replace(col(\"Industry\"), \"&\", \"and\"))\n",
    "\n",
    "# Obtener los valores únicos de la columna \"Industry\" y ordenarlos alfabéticamente\n",
    "unique_industry_types = df.select(\"Industry\").distinct().orderBy(\"Industry\")\n",
    "\n",
    "unique_industry_types.display()\n"
   ]
  },
  {
   "cell_type": "markdown",
   "metadata": {
    "application/vnd.databricks.v1+cell": {
     "cellMetadata": {},
     "inputWidgets": {},
     "nuid": "c2490bb6-1f88-4410-a0c4-75826c48b70c",
     "showTitle": false,
     "tableResultSettingsMap": {},
     "title": ""
    }
   },
   "source": [
    "27. Para el campo `Sector`, muestre el tipo de dato y los valores únicos."
   ]
  },
  {
   "cell_type": "code",
   "execution_count": 0,
   "metadata": {
    "application/vnd.databricks.v1+cell": {
     "cellMetadata": {
      "byteLimit": 2048000,
      "rowLimit": 10000
     },
     "inputWidgets": {},
     "nuid": "f5333682-28fa-4e45-8f6e-c424aea8ef59",
     "showTitle": false,
     "tableResultSettingsMap": {},
     "title": ""
    }
   },
   "outputs": [
    {
     "output_type": "stream",
     "name": "stdout",
     "output_type": "stream",
     "text": [
      "root\n |-- index: string (nullable = true)\n |-- Job Title: string (nullable = true)\n |-- Salary Estimate: string (nullable = true)\n |-- Job Description: string (nullable = true)\n |-- Rating: string (nullable = true)\n |-- Company Name: string (nullable = true)\n |-- Size: string (nullable = true)\n |-- Founded: string (nullable = true)\n |-- Type of ownership: string (nullable = true)\n |-- Industry: string (nullable = true)\n |-- Sector: string (nullable = true)\n |-- Revenue: string (nullable = true)\n |-- Competitors: string (nullable = true)\n |-- City: string (nullable = true)\n |-- State: string (nullable = true)\n |-- Headquarter City: string (nullable = true)\n |-- Headquarter State: string (nullable = true)\n\n"
     ]
    },
    {
     "output_type": "display_data",
     "data": {
      "text/html": [
       "<style scoped>\n",
       "  .table-result-container {\n",
       "    max-height: 300px;\n",
       "    overflow: auto;\n",
       "  }\n",
       "  table, th, td {\n",
       "    border: 1px solid black;\n",
       "    border-collapse: collapse;\n",
       "  }\n",
       "  th, td {\n",
       "    padding: 5px;\n",
       "  }\n",
       "  th {\n",
       "    text-align: left;\n",
       "  }\n",
       "</style><div class='table-result-container'><table class='table-result'><thead style='background-color: white'><tr><th>Sector</th></tr></thead><tbody><tr><td>Health Care</td></tr><tr><td>-1</td></tr><tr><td>Education</td></tr><tr><td>Insurance</td></tr><tr><td>Information Technology</td></tr><tr><td>Government</td></tr><tr><td>Oil, Gas, Energy & Utilities</td></tr><tr><td>Finance</td></tr><tr><td>Real Estate</td></tr><tr><td>Non-Profit</td></tr><tr><td>Construction, Repair & Maintenance</td></tr><tr><td>Media</td></tr><tr><td>Biotech & Pharmaceuticals</td></tr><tr><td>Telecommunications</td></tr><tr><td>Consumer Services</td></tr><tr><td>Accounting & Legal</td></tr><tr><td>Travel & Tourism</td></tr><tr><td>Aerospace & Defense</td></tr><tr><td>Business Services</td></tr><tr><td>Agriculture & Forestry</td></tr><tr><td>Retail</td></tr><tr><td>Manufacturing</td></tr><tr><td>Transportation & Logistics</td></tr></tbody></table></div>"
      ]
     },
     "metadata": {
      "application/vnd.databricks.v1+output": {
       "addedWidgets": {},
       "aggData": [],
       "aggError": "",
       "aggOverflow": false,
       "aggSchema": [],
       "aggSeriesLimitReached": false,
       "aggType": "",
       "arguments": {},
       "columnCustomDisplayInfos": {},
       "data": [
        [
         "Health Care"
        ],
        [
         "-1"
        ],
        [
         "Education"
        ],
        [
         "Insurance"
        ],
        [
         "Information Technology"
        ],
        [
         "Government"
        ],
        [
         "Oil, Gas, Energy & Utilities"
        ],
        [
         "Finance"
        ],
        [
         "Real Estate"
        ],
        [
         "Non-Profit"
        ],
        [
         "Construction, Repair & Maintenance"
        ],
        [
         "Media"
        ],
        [
         "Biotech & Pharmaceuticals"
        ],
        [
         "Telecommunications"
        ],
        [
         "Consumer Services"
        ],
        [
         "Accounting & Legal"
        ],
        [
         "Travel & Tourism"
        ],
        [
         "Aerospace & Defense"
        ],
        [
         "Business Services"
        ],
        [
         "Agriculture & Forestry"
        ],
        [
         "Retail"
        ],
        [
         "Manufacturing"
        ],
        [
         "Transportation & Logistics"
        ]
       ],
       "datasetInfos": [],
       "dbfsResultPath": null,
       "isJsonSchema": true,
       "metadata": {},
       "overflow": false,
       "plotOptions": {
        "customPlotOptions": {},
        "displayType": "table",
        "pivotAggregation": null,
        "pivotColumns": null,
        "xColumns": null,
        "yColumns": null
       },
       "removedWidgets": [],
       "schema": [
        {
         "metadata": "{}",
         "name": "Sector",
         "type": "\"string\""
        }
       ],
       "type": "table"
      }
     },
     "output_type": "display_data"
    }
   ],
   "source": [
    "df.printSchema()  # Mostrar el esquema del DataFrame\n",
    "\n",
    "# Obtener los valores únicos de la columna \"Sector\"\n",
    "unique_sector_types = df.select(\"Sector\").distinct()\n",
    "\n",
    "unique_sector_types.display()"
   ]
  },
  {
   "cell_type": "markdown",
   "metadata": {
    "application/vnd.databricks.v1+cell": {
     "cellMetadata": {},
     "inputWidgets": {},
     "nuid": "b0d92b2b-c4be-4aca-b734-3ef8d80b62cd",
     "showTitle": false,
     "tableResultSettingsMap": {},
     "title": ""
    }
   },
   "source": [
    "28. Aplica la misma lógica de la pregunta 26 pero sobre el campo `Sector`."
   ]
  },
  {
   "cell_type": "code",
   "execution_count": 0,
   "metadata": {
    "application/vnd.databricks.v1+cell": {
     "cellMetadata": {
      "byteLimit": 2048000,
      "rowLimit": 10000
     },
     "inputWidgets": {},
     "nuid": "cd785c86-d254-442d-80b2-8d481fc21066",
     "showTitle": false,
     "tableResultSettingsMap": {},
     "title": ""
    }
   },
   "outputs": [
    {
     "output_type": "display_data",
     "data": {
      "text/html": [
       "<style scoped>\n",
       "  .table-result-container {\n",
       "    max-height: 300px;\n",
       "    overflow: auto;\n",
       "  }\n",
       "  table, th, td {\n",
       "    border: 1px solid black;\n",
       "    border-collapse: collapse;\n",
       "  }\n",
       "  th, td {\n",
       "    padding: 5px;\n",
       "  }\n",
       "  th {\n",
       "    text-align: left;\n",
       "  }\n",
       "</style><div class='table-result-container'><table class='table-result'><thead style='background-color: white'><tr><th>Sector</th></tr></thead><tbody><tr><td>Accounting and Legal</td></tr><tr><td>Aerospace and Defense</td></tr><tr><td>Agriculture and Forestry</td></tr><tr><td>Biotech and Pharmaceuticals</td></tr><tr><td>Business Services</td></tr><tr><td>Construction, Repair and Maintenance</td></tr><tr><td>Consumer Services</td></tr><tr><td>Education</td></tr><tr><td>Finance</td></tr><tr><td>Government</td></tr><tr><td>Health Care</td></tr><tr><td>Information Technology</td></tr><tr><td>Insurance</td></tr><tr><td>Manufacturing</td></tr><tr><td>Media</td></tr><tr><td>Non-Profit</td></tr><tr><td>Not Available</td></tr><tr><td>Oil, Gas, Energy and Utilities</td></tr><tr><td>Real Estate</td></tr><tr><td>Retail</td></tr><tr><td>Telecommunications</td></tr><tr><td>Transportation and Logistics</td></tr><tr><td>Travel and Tourism</td></tr></tbody></table></div>"
      ]
     },
     "metadata": {
      "application/vnd.databricks.v1+output": {
       "addedWidgets": {},
       "aggData": [],
       "aggError": "",
       "aggOverflow": false,
       "aggSchema": [],
       "aggSeriesLimitReached": false,
       "aggType": "",
       "arguments": {},
       "columnCustomDisplayInfos": {},
       "data": [
        [
         "Accounting and Legal"
        ],
        [
         "Aerospace and Defense"
        ],
        [
         "Agriculture and Forestry"
        ],
        [
         "Biotech and Pharmaceuticals"
        ],
        [
         "Business Services"
        ],
        [
         "Construction, Repair and Maintenance"
        ],
        [
         "Consumer Services"
        ],
        [
         "Education"
        ],
        [
         "Finance"
        ],
        [
         "Government"
        ],
        [
         "Health Care"
        ],
        [
         "Information Technology"
        ],
        [
         "Insurance"
        ],
        [
         "Manufacturing"
        ],
        [
         "Media"
        ],
        [
         "Non-Profit"
        ],
        [
         "Not Available"
        ],
        [
         "Oil, Gas, Energy and Utilities"
        ],
        [
         "Real Estate"
        ],
        [
         "Retail"
        ],
        [
         "Telecommunications"
        ],
        [
         "Transportation and Logistics"
        ],
        [
         "Travel and Tourism"
        ]
       ],
       "datasetInfos": [],
       "dbfsResultPath": null,
       "isJsonSchema": true,
       "metadata": {},
       "overflow": false,
       "plotOptions": {
        "customPlotOptions": {},
        "displayType": "table",
        "pivotAggregation": null,
        "pivotColumns": null,
        "xColumns": null,
        "yColumns": null
       },
       "removedWidgets": [],
       "schema": [
        {
         "metadata": "{}",
         "name": "Sector",
         "type": "\"string\""
        }
       ],
       "type": "table"
      }
     },
     "output_type": "display_data"
    }
   ],
   "source": [
    "# Reemplazar '-1' por 'Not Available' y '&' por 'and' en \"Sector\"\n",
    "df = df.withColumn(\"Sector\", \n",
    "    regexp_replace(col(\"Sector\"), \"-1\", \"Not Available\")) \\\n",
    "    .withColumn(\"Sector\", \n",
    "    regexp_replace(col(\"Sector\"), \"&\", \"and\"))\n",
    "\n",
    "# Obtener los valores únicos de la columna \"Sector\" después de reemplazos\n",
    "unique_sector_types_replaced = df.select(\"Sector\").distinct().orderBy(\"Sector\")\n",
    "\n",
    "unique_sector_types_replaced.display()"
   ]
  },
  {
   "cell_type": "markdown",
   "metadata": {
    "application/vnd.databricks.v1+cell": {
     "cellMetadata": {},
     "inputWidgets": {},
     "nuid": "6a3770cb-694e-439f-8038-d28da4e3ac0f",
     "showTitle": false,
     "tableResultSettingsMap": {},
     "title": ""
    }
   },
   "source": [
    "29. Para el campo `Revenue`, muestre el tipo de dato y los valores únicos en orden ascedente."
   ]
  },
  {
   "cell_type": "code",
   "execution_count": 0,
   "metadata": {
    "application/vnd.databricks.v1+cell": {
     "cellMetadata": {
      "byteLimit": 2048000,
      "rowLimit": 10000
     },
     "inputWidgets": {},
     "nuid": "2e33479c-d1b2-4479-ab30-ef69f3194faa",
     "showTitle": false,
     "tableResultSettingsMap": {},
     "title": ""
    }
   },
   "outputs": [
    {
     "output_type": "stream",
     "name": "stdout",
     "output_type": "stream",
     "text": [
      "root\n |-- index: string (nullable = true)\n |-- Job Title: string (nullable = true)\n |-- Salary Estimate: string (nullable = true)\n |-- Job Description: string (nullable = true)\n |-- Rating: string (nullable = true)\n |-- Company Name: string (nullable = true)\n |-- Size: string (nullable = true)\n |-- Founded: string (nullable = true)\n |-- Type of ownership: string (nullable = true)\n |-- Industry: string (nullable = true)\n |-- Sector: string (nullable = true)\n |-- Revenue: string (nullable = true)\n |-- Competitors: string (nullable = true)\n |-- City: string (nullable = true)\n |-- State: string (nullable = true)\n |-- Headquarter City: string (nullable = true)\n |-- Headquarter State: string (nullable = true)\n\n"
     ]
    },
    {
     "output_type": "display_data",
     "data": {
      "text/html": [
       "<style scoped>\n",
       "  .table-result-container {\n",
       "    max-height: 300px;\n",
       "    overflow: auto;\n",
       "  }\n",
       "  table, th, td {\n",
       "    border: 1px solid black;\n",
       "    border-collapse: collapse;\n",
       "  }\n",
       "  th, td {\n",
       "    padding: 5px;\n",
       "  }\n",
       "  th {\n",
       "    text-align: left;\n",
       "  }\n",
       "</style><div class='table-result-container'><table class='table-result'><thead style='background-color: white'><tr><th>Revenue</th></tr></thead><tbody><tr><td>-1</td></tr><tr><td>$50 to $100 million (USD)</td></tr><tr><td>$100 to $500 million (USD)</td></tr><tr><td>0</td></tr><tr><td>$10 to $25 million (USD)</td></tr><tr><td>$10+ billion (USD)</td></tr><tr><td>$1 to $5 million (USD)</td></tr><tr><td>$500 million to $1 billion (USD)</td></tr><tr><td>Unknown / Non-Applicable</td></tr><tr><td>$25 to $50 million (USD)</td></tr><tr><td>$5 to $10 billion (USD)</td></tr><tr><td>$5 to $10 million (USD)</td></tr><tr><td>$2 to $5 billion (USD)</td></tr><tr><td>$1 to $2 billion (USD)</td></tr><tr><td>Less than $1 million (USD)</td></tr></tbody></table></div>"
      ]
     },
     "metadata": {
      "application/vnd.databricks.v1+output": {
       "addedWidgets": {},
       "aggData": [],
       "aggError": "",
       "aggOverflow": false,
       "aggSchema": [],
       "aggSeriesLimitReached": false,
       "aggType": "",
       "arguments": {},
       "columnCustomDisplayInfos": {},
       "data": [
        [
         "-1"
        ],
        [
         "$50 to $100 million (USD)"
        ],
        [
         "$100 to $500 million (USD)"
        ],
        [
         "0"
        ],
        [
         "$10 to $25 million (USD)"
        ],
        [
         "$10+ billion (USD)"
        ],
        [
         "$1 to $5 million (USD)"
        ],
        [
         "$500 million to $1 billion (USD)"
        ],
        [
         "Unknown / Non-Applicable"
        ],
        [
         "$25 to $50 million (USD)"
        ],
        [
         "$5 to $10 billion (USD)"
        ],
        [
         "$5 to $10 million (USD)"
        ],
        [
         "$2 to $5 billion (USD)"
        ],
        [
         "$1 to $2 billion (USD)"
        ],
        [
         "Less than $1 million (USD)"
        ]
       ],
       "datasetInfos": [],
       "dbfsResultPath": null,
       "isJsonSchema": true,
       "metadata": {},
       "overflow": false,
       "plotOptions": {
        "customPlotOptions": {},
        "displayType": "table",
        "pivotAggregation": null,
        "pivotColumns": null,
        "xColumns": null,
        "yColumns": null
       },
       "removedWidgets": [],
       "schema": [
        {
         "metadata": "{}",
         "name": "Revenue",
         "type": "\"string\""
        }
       ],
       "type": "table"
      }
     },
     "output_type": "display_data"
    }
   ],
   "source": [
    "df.printSchema()  # Mostrar el esquema del DataFrame de Revenue\n",
    "\n",
    "# Obtener los valores únicos de la columna \"Revenue\"\n",
    "unique_revenue_types = df.select(\"Revenue\").distinct()\n",
    "\n",
    "unique_revenue_types.display()\n"
   ]
  },
  {
   "cell_type": "markdown",
   "metadata": {
    "application/vnd.databricks.v1+cell": {
     "cellMetadata": {},
     "inputWidgets": {},
     "nuid": "9cb56eb9-3684-49cd-b20f-fd368d23b499",
     "showTitle": false,
     "tableResultSettingsMap": {},
     "title": ""
    }
   },
   "source": [
    "30. En el campo `Revenue`, cambiar:  \n",
    "-  `-1` por `N/A`  \n",
    "-  `Unknown / Non-Applicable` por `N/A`  \n",
    "-  `Less than $1 million (USD)` por `Less than 1`\n",
    "-  Quitar `$` y `(USD)`"
   ]
  },
  {
   "cell_type": "code",
   "execution_count": 0,
   "metadata": {
    "application/vnd.databricks.v1+cell": {
     "cellMetadata": {
      "byteLimit": 2048000,
      "rowLimit": 10000
     },
     "inputWidgets": {},
     "nuid": "d9d0d3ff-dfa4-49e6-8115-e8ec998e9173",
     "showTitle": false,
     "tableResultSettingsMap": {},
     "title": ""
    }
   },
   "outputs": [],
   "source": [
    "df= df \\\n",
    "    .withColumn(\"Revenue\", regexp_replace(col(\"Revenue\"), \"-1\", \"N/A\")) \\\n",
    "    .withColumn(\"Revenue\", regexp_replace(col(\"Revenue\"), \"Unknown / Non-Applicable\", \"N/A\")) \\\n",
    "    .withColumn(\"Revenue\", regexp_replace(col(\"Revenue\"), \"Less than \\\\$1 million \\\\(USD\\\\)\", \"Less than 1\")) \\\n",
    "    .withColumn(\"Revenue\", regexp_replace(col(\"Revenue\"), \"\\\\$\", \"\")) \\\n",
    "    .withColumn(\"Revenue\", regexp_replace(col(\"Revenue\"), \"\\\\(USD\\\\)\", \"\")) \\\n",
    "    .withColumn(\"Revenue\", regexp_replace(col(\"Revenue\"), \"\\\\s+\", \" \"))  # Quitar espacios extras\n",
    "\n",
    "df.show()"
   ]
  },
  {
   "cell_type": "markdown",
   "metadata": {
    "application/vnd.databricks.v1+cell": {
     "cellMetadata": {},
     "inputWidgets": {},
     "nuid": "d89472f2-855f-4edc-bc47-d2654069bf38",
     "showTitle": false,
     "tableResultSettingsMap": {},
     "title": ""
    }
   },
   "source": [
    "31. Borrar el campo `Competitors`."
   ]
  },
  {
   "cell_type": "code",
   "execution_count": 0,
   "metadata": {
    "application/vnd.databricks.v1+cell": {
     "cellMetadata": {
      "byteLimit": 2048000,
      "rowLimit": 10000
     },
     "inputWidgets": {},
     "nuid": "a81318ad-322a-4938-8730-0350a589e023",
     "showTitle": false,
     "tableResultSettingsMap": {},
     "title": ""
    }
   },
   "outputs": [],
   "source": [
    "# Eliminar la columna \"Competitors\"\n",
    "df= df.drop(\"Competitors\")\n",
    "\n",
    "df.display()"
   ]
  },
  {
   "cell_type": "markdown",
   "metadata": {
    "application/vnd.databricks.v1+cell": {
     "cellMetadata": {},
     "inputWidgets": {},
     "nuid": "a1d3b8e8-a020-4a19-9d85-fb3f635ed316",
     "showTitle": false,
     "tableResultSettingsMap": {},
     "title": ""
    }
   },
   "source": [
    "32. Crear tres columnas: `min_salary` (salario mínimo), `max_salary` (salario maximo) y `avg_salary` (salario promedio) a partir de los datos del campo `Salary Estimate`."
   ]
  },
  {
   "cell_type": "code",
   "execution_count": 0,
   "metadata": {
    "application/vnd.databricks.v1+cell": {
     "cellMetadata": {
      "byteLimit": 2048000,
      "rowLimit": 10000
     },
     "inputWidgets": {},
     "nuid": "9886ed65-048c-462c-99cd-50e6f623a8b1",
     "showTitle": false,
     "tableResultSettingsMap": {},
     "title": ""
    }
   },
   "outputs": [],
   "source": [
    "# Extraer los salarios mínimo y máximo\n",
    "df_salary = df.withColumn(\"min_salary\", regexp_extract(col(\"Salary Estimate\"), r\"\\$(\\d+)\", 1).cast(\"integer\")) \\\n",
    "              .withColumn(\"max_salary\", regexp_extract(col(\"Salary Estimate\"), r\"-\\$(\\d+)\", 1).cast(\"integer\"))\n",
    "\n",
    "\n",
    "df_salary.display()"
   ]
  },
  {
   "cell_type": "code",
   "execution_count": 0,
   "metadata": {
    "application/vnd.databricks.v1+cell": {
     "cellMetadata": {
      "byteLimit": 2048000,
      "rowLimit": 10000
     },
     "inputWidgets": {},
     "nuid": "d1c0715a-218e-4af4-bb37-423b3a4a4c6b",
     "showTitle": false,
     "tableResultSettingsMap": {},
     "title": ""
    }
   },
   "outputs": [],
   "source": [
    "from pyspark.sql.functions import regexp_extract, col, round\n",
    "\n",
    "# Extraer los salarios mínimo y máximo\n",
    "df_salary = df.withColumn(\"min_salary\", regexp_extract(col(\"Salary Estimate\"), r\"\\$(\\d+)\", 1).cast(\"integer\")) \\\n",
    "              .withColumn(\"max_salary\", regexp_extract(col(\"Salary Estimate\"), r\"-\\$(\\d+)\", 1).cast(\"integer\"))\n",
    "\n",
    "\n",
    "# Calcular el salario promedio\n",
    "df= df_salary.withColumn(\"avg_salary\", round((col(\"min_salary\") + col(\"max_salary\")) / 2, 2))\n",
    "\n",
    "df.display()"
   ]
  },
  {
   "cell_type": "markdown",
   "metadata": {
    "application/vnd.databricks.v1+cell": {
     "cellMetadata": {},
     "inputWidgets": {},
     "nuid": "359b377b-30ee-4c05-b7cd-f0f217a4d9e7",
     "showTitle": false,
     "tableResultSettingsMap": {},
     "title": ""
    }
   },
   "source": [
    "33. Mostrar los valores unicos del campo `Founded` y el tipo de dato."
   ]
  },
  {
   "cell_type": "code",
   "execution_count": 0,
   "metadata": {
    "application/vnd.databricks.v1+cell": {
     "cellMetadata": {
      "byteLimit": 2048000,
      "rowLimit": 10000
     },
     "inputWidgets": {},
     "nuid": "8d6849d8-5613-4a4f-b7ac-e545b657e8f1",
     "showTitle": false,
     "tableResultSettingsMap": {},
     "title": ""
    }
   },
   "outputs": [],
   "source": [
    "df.printSchema()  # Mostrar el esquema del DataFrame\n",
    "\n",
    "# Obtener los valores únicos de la columna \"Founded\"\n",
    "unique_founded_years = df.select(\"Founded\").distinct()\n",
    "\n",
    "unique_founded_years.display()"
   ]
  },
  {
   "cell_type": "markdown",
   "metadata": {
    "application/vnd.databricks.v1+cell": {
     "cellMetadata": {},
     "inputWidgets": {},
     "nuid": "6cd2dd8d-9e02-46e5-b441-0b93d2775f05",
     "showTitle": false,
     "tableResultSettingsMap": {},
     "title": ""
    }
   },
   "source": [
    "34. Reemplazar '-1' por '2024' en todos los registros del campo `Founded`."
   ]
  },
  {
   "cell_type": "code",
   "execution_count": 0,
   "metadata": {
    "application/vnd.databricks.v1+cell": {
     "cellMetadata": {
      "byteLimit": 2048000,
      "rowLimit": 10000
     },
     "inputWidgets": {},
     "nuid": "0cd3f193-1485-4d7c-96c6-b706f3ded2cc",
     "showTitle": false,
     "tableResultSettingsMap": {},
     "title": ""
    }
   },
   "outputs": [],
   "source": [
    "# Reemplazar '-1' por '2024' en la columna \"Founded\"\n",
    "df= df.withColumn(\"Founded\", when(col(\"Founded\") == -1, 2024).otherwise(col(\"Founded\")))\n",
    "\n",
    "df.display()\n"
   ]
  },
  {
   "cell_type": "markdown",
   "metadata": {
    "application/vnd.databricks.v1+cell": {
     "cellMetadata": {},
     "inputWidgets": {},
     "nuid": "e823336d-0258-4af5-8d13-c9a358b9295f",
     "showTitle": false,
     "tableResultSettingsMap": {},
     "title": ""
    }
   },
   "source": [
    "35. Crear una nueva columna o campo que se llame `company_age` con los datos que se deducen del campo `Founded`."
   ]
  },
  {
   "cell_type": "code",
   "execution_count": 0,
   "metadata": {
    "application/vnd.databricks.v1+cell": {
     "cellMetadata": {
      "byteLimit": 2048000,
      "rowLimit": 10000
     },
     "inputWidgets": {},
     "nuid": "c800a334-7b10-465b-9449-52a2ad57db13",
     "showTitle": false,
     "tableResultSettingsMap": {},
     "title": ""
    }
   },
   "outputs": [],
   "source": [
    "# Calcular la edad de la empresa\n",
    "df = df.withColumn(\"company_age\", 2024 - col(\"Founded\"))\n",
    "\n",
    "df.display()"
   ]
  },
  {
   "cell_type": "markdown",
   "metadata": {
    "application/vnd.databricks.v1+cell": {
     "cellMetadata": {},
     "inputWidgets": {},
     "nuid": "49a8f7ed-434c-4ad1-ba31-eeecd65c117c",
     "showTitle": false,
     "tableResultSettingsMap": {},
     "title": ""
    }
   },
   "source": [
    "36. Crear una columna o campo que se llame: `Job Type` y en cada registro debe ir Senior, Junior o NA según los datos del campo `Job Title`.  \n",
    "- Cambiar 'sr' o 'senior' o 'lead' o 'principal' por `Senior` en el campo `Job Type`. No olvidar las mayúsculas.\n",
    "- Cambiar 'jr' o 'jr.' o cualquier otra variante por `Junior`.  \n",
    "- En cualquier otro caso distinto a los anteriores añadir NA."
   ]
  },
  {
   "cell_type": "code",
   "execution_count": 0,
   "metadata": {
    "application/vnd.databricks.v1+cell": {
     "cellMetadata": {
      "byteLimit": 2048000,
      "rowLimit": 10000
     },
     "inputWidgets": {},
     "nuid": "6e4959b7-63b5-423e-81a2-8a36ae702c20",
     "showTitle": false,
     "tableResultSettingsMap": {},
     "title": ""
    }
   },
   "outputs": [],
   "source": [
    "# Crear la nueva columna \"Job Type\"\n",
    "df = df.withColumn(\"Job Type\",\n",
    "    when(col(\"Job Title\").rlike(\"(?i)sr|senior|lead|principal\"), \"Senior\")\n",
    "    .when(col(\"Job Title\").rlike(\"(?i)jr|jr\\\\.\"), \"Junior\")\n",
    "    .otherwise(\"NA\")\n",
    ")\n",
    "\n",
    "df.display()\n"
   ]
  },
  {
   "cell_type": "markdown",
   "metadata": {
    "application/vnd.databricks.v1+cell": {
     "cellMetadata": {},
     "inputWidgets": {},
     "nuid": "2c70227b-c16c-4919-9aa2-9bf9514b76dd",
     "showTitle": false,
     "tableResultSettingsMap": {},
     "title": ""
    }
   },
   "source": [
    "37. Muestra los registros únicos del campo `Job Type`. "
   ]
  },
  {
   "cell_type": "code",
   "execution_count": 0,
   "metadata": {
    "application/vnd.databricks.v1+cell": {
     "cellMetadata": {
      "byteLimit": 2048000,
      "rowLimit": 10000
     },
     "inputWidgets": {},
     "nuid": "b55b5f4d-51d2-44dc-92ba-feea0b62bc42",
     "showTitle": false,
     "tableResultSettingsMap": {},
     "title": ""
    }
   },
   "outputs": [],
   "source": [
    "# Obtener los valores únicos de la columna \"Job Type\"\n",
    "unique_job_types = df.select(\"Job Type\").distinct()\n",
    "\n",
    "unique_job_types.display()\n"
   ]
  },
  {
   "cell_type": "markdown",
   "metadata": {
    "application/vnd.databricks.v1+cell": {
     "cellMetadata": {},
     "inputWidgets": {},
     "nuid": "2cd4dbad-048d-461f-bf2a-f54c557d16f4",
     "showTitle": false,
     "tableResultSettingsMap": {},
     "title": ""
    }
   },
   "source": [
    "38. Partiendo del campo `Job Description` se extraer todas o las principales skills solicitadas por las empresas, por ejemplo: Python, Spark , Big Data. Cada Skill debe ir en una nueva columna de tipo Binaria ( 0 , 1) o Booleana (True,  False) de modo que cada skill va ser una nueva columna y si esa skill es solicitada por la empresa colocar 1 sino colocar 0. Por ejemplo:  "
   ]
  },
  {
   "cell_type": "markdown",
   "metadata": {
    "application/vnd.databricks.v1+cell": {
     "cellMetadata": {},
     "inputWidgets": {},
     "nuid": "80e86af1-e86e-48db-b9d8-832cee782b01",
     "showTitle": false,
     "tableResultSettingsMap": {},
     "title": ""
    }
   },
   "source": [
    "Por ejemplo:  \n",
    "| Job Title         | Salary Estimate | Job Description                                 | Rating | Company Name       | Size       | Founded | Type of ownership         | Industry                       | Sector                         | Same State      | company_age | Python | Excel |\n",
    "|--------------------|-----------------|-------------------------------------------------|--------|--------------------|------------|---------|---------------------------|--------------------------------|--------------------------------|----------------|-------------|--------|-------|\n",
    "| Sr Data Scientist | 137000-171000   | Description The Senior Data Scientist is resp... | 3.1    | Healthfirst        | 1001-5000  | 1993    | Nonprofit Organization    | Insurance Carriers            | Insurance Carriers            | Same State      | 31          | 0      | 0     |\n",
    "| Data Scientist    | 137000-171000   | Secure our Nation, Ignite your Future Join th... | 4.2    | ManTech            | 5001-10000 | 1968    | Public Company            | Research and Development      | Research and Development      | Same State      | 56          | 0      | 0     |\n",
    "| Data Scientist    | 137000-171000   | Overview Analysis Group is one of the larges... | 3.8    | Analysis Group      | 1001-5000  | 1981    | Private Company           | Consulting                    | Consulting                    | Same State      | 43          | 1      | 1     |\n",
    "| Data Scientist    | 137000-171000   | JOB DESCRIPTION: Do you have a passion for Da... | 3.5    | INFICON            | 501-1000   | 2000    | Public Company            | Electrical and Electronic Manufacturing | Electrical and Electronic Manufacturing | Different State | 24          | 1      | 1     |\n"
   ]
  },
  {
   "cell_type": "code",
   "execution_count": 0,
   "metadata": {
    "application/vnd.databricks.v1+cell": {
     "cellMetadata": {
      "byteLimit": 2048000,
      "rowLimit": 10000
     },
     "inputWidgets": {},
     "nuid": "771e1ee4-1ff5-4d27-b1fc-f5e1042b2493",
     "showTitle": false,
     "tableResultSettingsMap": {},
     "title": ""
    }
   },
   "outputs": [],
   "source": [
    "# Definir las habilidades a extraer\n",
    "skills = [\"Python\", \"Spark\", \"Big Data\", \"SQL\", \"Excel\", \"Machine Learning\", \"Data Analytics\", \"Visualization\"]\n",
    "\n",
    "# Crear nuevas columnas binarias para cada habilidad\n",
    "for skill in skills:\n",
    "    df = df.withColumn(skill, when(col(\"Job Description\").rlike(skill), 1).otherwise(0))\n",
    "\n",
    "df.display()"
   ]
  },
  {
   "cell_type": "markdown",
   "metadata": {
    "application/vnd.databricks.v1+cell": {
     "cellMetadata": {},
     "inputWidgets": {},
     "nuid": "5609a545-1510-4707-a0bd-a937e37675a4",
     "showTitle": false,
     "tableResultSettingsMap": {},
     "title": ""
    }
   },
   "source": [
    "39. Exportar dataset final a csv"
   ]
  },
  {
   "cell_type": "markdown",
   "metadata": {
    "application/vnd.databricks.v1+cell": {
     "cellMetadata": {},
     "inputWidgets": {},
     "nuid": "41fe24a6-5fc3-4ec4-9b76-56fd2b3e36ba",
     "showTitle": false,
     "tableResultSettingsMap": {},
     "title": ""
    }
   },
   "source": [
    "40. Extraer todos los insights posibles que sean de valor o utilidad. Cree nuevas columnas, agrupar,  filtrar hacer varios plots que muestren dichos insights que sean de utilidad para una empresa o para un usuario. Elabore conclusiones con los insights encontrados. "
   ]
  },
  {
   "cell_type": "markdown",
   "metadata": {
    "application/vnd.databricks.v1+cell": {
     "cellMetadata": {},
     "inputWidgets": {},
     "nuid": "8b6cc66c-608a-4cf3-abda-c1351ed2dbad",
     "showTitle": false,
     "tableResultSettingsMap": {},
     "title": ""
    }
   },
   "source": [
    "Este análisis se centra en cómo el salario y la calificación de una empresa pueden afectar la percepción de los candidatos sobre la organización. Comprender estas relaciones es crucial para que tanto las empresas como los candidatos puedan posicionarse mejor en un mercado laboral dinámico."
   ]
  },
  {
   "cell_type": "code",
   "execution_count": 0,
   "metadata": {
    "application/vnd.databricks.v1+cell": {
     "cellMetadata": {},
     "inputWidgets": {},
     "nuid": "799ef21b-3b4c-46e4-815c-12ccf23094ea",
     "showTitle": false,
     "tableResultSettingsMap": {},
     "title": ""
    }
   },
   "outputs": [],
   "source": [
    "from pyspark.sql import SparkSession\n",
    "from pyspark.sql.functions import col, avg, count, year, current_date\n",
    "\n",
    "# Calcular la antigüedad de la empresa\n",
    "current_year = year(current_date())\n",
    "df = df.withColumn(\"Company Age\", current_year - col(\"Founded\"))\n",
    "\n",
    "# Calcular el rating promedio por tipo de propiedad\n",
    "avg_rating_by_ownership = df.groupBy(\"Type of ownership\").agg(avg(\"Rating\").alias(\"Avg Rating\"))\n",
    "\n",
    "# Calcular el rating promedio por tamaño de empresa\n",
    "avg_rating_by_size = df.groupBy(\"Size\").agg(avg(\"Rating\").alias(\"Avg Rating\"))\n",
    "\n",
    "# Visualizar la relación entre Antigüedad y Rating\n",
    "import matplotlib.pyplot as plt\n",
    "\n",
    "age_rating_df = df.select(\"Company Age\", \"Rating\").toPandas()\n",
    "plt.figure(figsize=(10, 5))\n",
    "plt.scatter(age_rating_df[\"Company Age\"], age_rating_df[\"Rating\"], color='orange')\n",
    "plt.title(\"Company Age vs Rating\")\n",
    "plt.xlabel(\"Company Age (Years)\")\n",
    "plt.ylabel(\"Rating\")\n",
    "plt.grid(True)\n",
    "plt.show()\n",
    "\n",
    "# Contar la cantidad de empresas por tipo de propiedad\n",
    "ownership_distribution = df.groupBy(\"Type of ownership\").agg(count(\"Company Name\").alias(\"Count\"))\n"
   ]
  }
 ],
 "metadata": {
  "application/vnd.databricks.v1+notebook": {
   "dashboards": [],
   "environmentMetadata": null,
   "language": "python",
   "notebookMetadata": {
    "pythonIndentUnit": 4
   },
   "notebookName": "Caso_4",
   "widgets": {}
  }
 },
 "nbformat": 4,
 "nbformat_minor": 0
}
